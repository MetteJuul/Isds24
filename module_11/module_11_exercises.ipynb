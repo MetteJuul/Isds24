{
 "cells": [
  {
   "cell_type": "markdown",
   "metadata": {
    "ExecuteTime": {
     "end_time": "2017-08-23T15:30:03.634114Z",
     "start_time": "2017-08-23T15:30:03.629294Z"
    }
   },
   "source": [
    "# Videos and Exercises for Session 11: Regression and Regularization\n",
    "\n",
    "In this combined teaching module and exercise set, you will learn about linear regression models in a machine learning perspective. We will see how overfitting can arise and how we can tackle it with a modification of the linear regression model.\n",
    "\n",
    "The structure of this notebook is as follows:\n",
    "1. Linear Regression Mechanics\n",
    "2. Overfitting and Underfitting in Linear Regression\n",
    "    - Exploring Overfitting in Linear Regression\n",
    "    - A Cure for Overfitting in Linear Regression\n",
    "3. Modelling Houseprices (Exercise)"
   ]
  },
  {
   "cell_type": "markdown",
   "metadata": {},
   "source": [
    "## Packages\n",
    "First, we need to import our standard stuff. Notice that we are not interested in seeing the convergence warning in scikit-learn, so we suppress them for now."
   ]
  },
  {
   "cell_type": "code",
   "execution_count": null,
   "metadata": {},
   "outputs": [],
   "source": [
    "import warnings\n",
    "from sklearn.exceptions import ConvergenceWarning\n",
    "warnings.filterwarnings(action='ignore', category=ConvergenceWarning)\n",
    "\n",
    "import matplotlib.pyplot as plt\n",
    "import numpy as np \n",
    "import pandas as pd \n",
    "import seaborn as sns\n",
    "\n",
    "%matplotlib inline"
   ]
  },
  {
   "cell_type": "markdown",
   "metadata": {},
   "source": [
    "# Part 1: Linear Regression Mechanics\n",
    "## Implementing and evaluating the gradient decent \n",
    " \n",
    "Normally we use OLS to estimate linear regression models, but this is only way of solving the problem of minimizing the least squares problem (that minimizes the sum of squared errors). In the video below we show how to implement gradient descent below and compare it along with other approximate solutions to OLS."
   ]
  },
  {
   "cell_type": "code",
   "execution_count": null,
   "metadata": {},
   "outputs": [],
   "source": [
    "from IPython.display import YouTubeVideo\n",
    "YouTubeVideo('XidjsIseyv0', width=640, height=360)"
   ]
  },
  {
   "cell_type": "markdown",
   "metadata": {},
   "source": [
    "We continue straight to an exercise where you are to implement a new estimator that we code up from scratch. We solve the numerical optimization using the gradient decent algorithm. This will be very similar to what we just saw in the video, but we will pay a bit more attention to each step in the process.\n",
    "\n",
    "Using our algorithm, we will fit it to some data, and compare our own solution to the standard solution from `sklearn`"
   ]
  },
  {
   "cell_type": "markdown",
   "metadata": {},
   "source": [
    "> **Ex. 11.1.0**: Import the dataset `tips` from the `seaborn`.\n",
    "\n",
    "\n",
    "*Hint*: use the `load_dataset` method in seaborn"
   ]
  },
  {
   "cell_type": "code",
   "execution_count": null,
   "metadata": {
    "deletable": false,
    "nbgrader": {
     "cell_type": "code",
     "checksum": "6e812556b5b6774ba76a4a1ccb89a169",
     "grade": false,
     "grade_id": "cell-2dd56f36f76bce57",
     "locked": false,
     "schema_version": 3,
     "solution": true,
     "task": false
    }
   },
   "outputs": [],
   "source": [
    "# YOUR CODE HERE\n",
    "\n",
    "# Solution to Ex. 11.1.0\n",
    "\n",
    "import seaborn as sns\n",
    "\n",
    "# Load the 'tips' dataset\n",
    "tips = sns.load_dataset('tips')\n",
    "\n",
    "# Display the first few rows of the dataset\n",
    "print(tips.head())\n"
   ]
  },
  {
   "cell_type": "markdown",
   "metadata": {},
   "source": [
    "> **Ex. 11.1.1**: Convert non-numeric variables to dummy variables for each category (remember to leave one column out for each catagorical variable, so you have a reference). Restructure the data so we get a dataset `y` containing the variable tip, and a dataset `X` containing the \n",
    "features. \n",
    "\n",
    "> *Hint*: You might want to use the `get_dummies` method in pandas, with the `drop_first = True` parameter. "
   ]
  },
  {
   "cell_type": "code",
   "execution_count": null,
   "metadata": {
    "deletable": false,
    "nbgrader": {
     "cell_type": "code",
     "checksum": "2ce55b897e3acd6727916dffe21150f6",
     "grade": false,
     "grade_id": "cell-2e42eb4f59160bed",
     "locked": false,
     "schema_version": 3,
     "solution": true,
     "task": false
    }
   },
   "outputs": [],
   "source": [
    "# YOUR CODE HERE\n",
    "\n",
    "# Solution to Ex. 11.1.1\n",
    "\n",
    "import pandas as pd\n",
    "import seaborn as sns\n",
    "\n",
    "tips_num = pd.get_dummies(tips, drop_first=True)\n",
    "\n",
    "X = tips_num.drop('tip', axis = 1)\n",
    "y = tips_num['tip']\n"
   ]
  },
  {
   "cell_type": "markdown",
   "metadata": {},
   "source": [
    "> **Ex. 11.1.2**: Divide the features and target into test and train data. Make the split 50 pct. of each. The split data should be called `X_train`, `X_test`, `y_train`, `y_test`.\n",
    "\n",
    "> *Hint*: You may use `train_test_split` in `sklearn.model_selection`."
   ]
  },
  {
   "cell_type": "code",
   "execution_count": null,
   "metadata": {
    "deletable": false,
    "nbgrader": {
     "cell_type": "code",
     "checksum": "eb3675bb8e21477c6f5c76f67a3a5ed0",
     "grade": false,
     "grade_id": "cell-ba197171f1b2bfef",
     "locked": false,
     "schema_version": 3,
     "solution": true,
     "task": false
    }
   },
   "outputs": [],
   "source": [
    "# YOUR CODE HERE\n",
    "\n",
    "# Solution to Ex. 11.1.2\n",
    "\n",
    "from sklearn.model_selection import train_test_split\n",
    "\n",
    "X_train, X_test, y_train, y_test = train_test_split(X,y, test_size=.5, random_state=161193)"
   ]
  },
  {
   "cell_type": "markdown",
   "metadata": {},
   "source": [
    "> **Ex. 11.1.3**: Normalize your features by converting to zero mean and one std. deviation.\n",
    "\n",
    "> *Hint*: Take a look at `StandardScaler` in `sklearn.preprocessing`. If in doubt about which distribution to scale, you may read [this post](https://stats.stackexchange.com/questions/174823/how-to-apply-standardization-normalization-to-train-and-testset-if-prediction-i)."
   ]
  },
  {
   "cell_type": "code",
   "execution_count": null,
   "metadata": {
    "deletable": false,
    "nbgrader": {
     "cell_type": "code",
     "checksum": "5a4d5e2ed6417f454e18385a2804a19b",
     "grade": false,
     "grade_id": "cell-8ab591d5927be1d5",
     "locked": false,
     "schema_version": 3,
     "solution": true,
     "task": false
    }
   },
   "outputs": [],
   "source": [
    "# YOUR CODE HERE\n",
    "\n",
    "# Solution to Ex. 11.1.3\n",
    "\n",
    "from sklearn.preprocessing import StandardScaler\n",
    "sc = StandardScaler()\n",
    "X_train = sc.fit_transform(X_train)\n",
    "X_test = sc.transform(X_test)\n"
   ]
  },
  {
   "cell_type": "markdown",
   "metadata": {},
   "source": [
    "> **Ex. 11.1.4**: Make a function called `compute_error` to compute the prediction errors given input target `y_`, input features `X_` and input weights `w_`. You should use matrix multiplication.\n",
    ">\n",
    "> *Hint:* You can use the net-input fct. from yesterday.\n",
    "\n"
   ]
  },
  {
   "cell_type": "code",
   "execution_count": null,
   "metadata": {
    "deletable": false,
    "nbgrader": {
     "cell_type": "code",
     "checksum": "b03c6de7d3488e832c4d3eb123587e17",
     "grade": false,
     "grade_id": "cell-a70101715bbbb443",
     "locked": false,
     "schema_version": 3,
     "solution": true,
     "task": false
    }
   },
   "outputs": [],
   "source": [
    "# YOUR CODE HERE\n",
    "\n",
    "# Solution to Ex. 11.1.4\n",
    "\n",
    "def net_input(X_, w_):    \n",
    "    ''' Computes the matrix product between X and w. Note that\n",
    "    X is assumed not to contain a bias/intercept column.'''\n",
    "    return np.dot(X_, w_[1:]) + w_[0]   # We have to add w_[0] separately because this is the constant term. We could also have added a constant term (columns of 1's to X_ and multipliced it to all of w_)\n",
    "\n",
    "def compute_error(y_, X_, w_):\n",
    "    return y_ - net_input(X_, w_)\n"
   ]
  },
  {
   "cell_type": "markdown",
   "metadata": {},
   "source": [
    "> **Ex. 11.1.5**: Make a function to update the weights given input target `y_`, input features `X_` and input weights `w_` as well as learning rate, $\\eta$, i.e. greek `eta`. You should use matrix multiplication."
   ]
  },
  {
   "cell_type": "code",
   "execution_count": null,
   "metadata": {},
   "outputs": [],
   "source": [
    "# INCLUDED IN ASSIGNMENT 2"
   ]
  },
  {
   "cell_type": "code",
   "execution_count": null,
   "metadata": {
    "deletable": false,
    "nbgrader": {
     "cell_type": "code",
     "checksum": "6cd45bb01781e944c41227e59873a6df",
     "grade": false,
     "grade_id": "cell-049443f1aafb8903",
     "locked": false,
     "schema_version": 3,
     "solution": true,
     "task": false
    }
   },
   "outputs": [],
   "source": [
    "# YOUR CODE HERE\n",
    "\n",
    "# Solution to Ex. 11.1.5\n",
    "\n",
    "import numpy as np\n",
    "\n",
    "def update_weights(y_, X_, w_, eta):\n",
    "    \"\"\"\n",
    "    Update the weights using gradient descent.\n",
    "    \n",
    "    Parameters:\n",
    "    y_ (numpy array or pandas Series): The true target values.\n",
    "    X_ (numpy array or pandas DataFrame): The feature values.\n",
    "    w_ (numpy array): The current weights.\n",
    "    eta (float): The learning rate.\n",
    "    \n",
    "    Returns:\n",
    "    numpy array: The updated weights.\n",
    "    \"\"\"\n",
    "    # Ensure that y_ and X_ are numpy arrays\n",
    "    y_ = np.asarray(y_)\n",
    "    X_ = np.asarray(X_)\n",
    "    \n",
    "    # Compute the predictions\n",
    "    predictions = X_ @ w_\n",
    "    \n",
    "    # Compute the errors\n",
    "    errors = y_ - predictions\n",
    "    \n",
    "    # Compute the gradient\n",
    "    gradient = - (X_.T @ errors) / len(y_)\n",
    "    \n",
    "    # Update the weights\n",
    "    w_updated = w_ - eta * gradient\n",
    "    \n",
    "    return w_updated\n",
    "\n",
    "# Example usage:\n",
    "# Assuming X_train_scaled, y_train, initial_weights, and learning_rate (eta) have been defined\n",
    "# updated_weights = update_weights(y_train, X_train_scaled, initial_weights, learning_rate)\n",
    "# print(\"Updated Weights:\", updated_weights)\n"
   ]
  },
  {
   "cell_type": "markdown",
   "metadata": {},
   "source": [
    "> **Ex. 11.1.6**: Use the code below to initialize weights `w` at zero given feature set `X`. Notice how we include an extra weight that includes the bias term. Set the learning rate `eta` to 0.001. Make a loop with 50 iterations where you iteratively apply your weight updating function. \n",
    "\n",
    ">```python\n",
    "w = np.zeros(1+X_train.shape[1])\n",
    "```"
   ]
  },
  {
   "cell_type": "code",
   "execution_count": null,
   "metadata": {},
   "outputs": [],
   "source": [
    "# INCLUDED IN ASSIGNMENT 2"
   ]
  },
  {
   "cell_type": "code",
   "execution_count": null,
   "metadata": {
    "deletable": false,
    "nbgrader": {
     "cell_type": "code",
     "checksum": "6308f5593a6e65ab57b86368ceef6669",
     "grade": false,
     "grade_id": "cell-74c4170d3d5fe322",
     "locked": false,
     "schema_version": 3,
     "solution": true,
     "task": false
    }
   },
   "outputs": [],
   "source": [
    "# YOUR CODE HERE\n",
    "\n",
    "# Solution to Ex. 11.1.6\n",
    "\n",
    "import numpy as np\n",
    "import seaborn as sns\n",
    "import pandas as pd\n",
    "from sklearn.model_selection import train_test_split\n",
    "from sklearn.preprocessing import StandardScaler\n",
    "\n",
    "# Load the 'tips' dataset\n",
    "tips = sns.load_dataset('tips')\n",
    "\n",
    "# Convert non-numeric variables to dummy variables\n",
    "tips_dummies = pd.get_dummies(tips, drop_first=True)\n",
    "\n",
    "# Separate the target variable 'tip' and features\n",
    "y = tips_dummies['tip']\n",
    "X = tips_dummies.drop('tip', axis=1)\n",
    "\n",
    "# Split the data into training and test sets (50% each)\n",
    "X_train, X_test, y_train, y_test = train_test_split(X, y, test_size=0.5, random_state=42)\n",
    "\n",
    "# Initialize the StandardScaler\n",
    "scaler = StandardScaler()\n",
    "\n",
    "# Fit the scaler on the training data and transform both training and test data\n",
    "X_train_scaled = scaler.fit_transform(X_train)\n",
    "X_test_scaled = scaler.transform(X_test)\n",
    "\n",
    "# Add a bias term (column of ones) to the features\n",
    "X_train_scaled_bias = np.c_[np.ones(X_train_scaled.shape[0]), X_train_scaled]\n",
    "X_test_scaled_bias = np.c_[np.ones(X_test_scaled.shape[0]), X_test_scaled]\n",
    "\n",
    "# Initialize weights (including the bias weight)\n",
    "w = np.zeros(X_train_scaled_bias.shape[1])\n",
    "\n",
    "# Set the learning rate\n",
    "eta = 0.001\n",
    "\n",
    "def update_weights(y_, X_, w_, eta):\n",
    "    \"\"\"\n",
    "    Update the weights using gradient descent.\n",
    "    \n",
    "    Parameters:\n",
    "    y_ (numpy array): The true target values.\n",
    "    X_ (numpy array): The feature values including bias.\n",
    "    w_ (numpy array): The current weights.\n",
    "    eta (float): The learning rate.\n",
    "    \n",
    "    Returns:\n",
    "    numpy array: The updated weights.\n",
    "    \"\"\"\n",
    "    # Compute the predictions\n",
    "    predictions = X_ @ w_\n",
    "    \n",
    "    # Compute the errors\n",
    "    errors = y_ - predictions\n",
    "    \n",
    "    # Compute the gradient\n",
    "    gradient = - (X_.T @ errors) / len(y_)\n",
    "    \n",
    "    # Update the weights\n",
    "    w_updated = w_ - eta * gradient\n",
    "    \n",
    "    return w_updated\n",
    "\n",
    "# Perform gradient descent with 50 iterations\n",
    "num_iterations = 50\n",
    "for i in range(num_iterations):\n",
    "    w = update_weights(y_train, X_train_scaled_bias, w, eta)\n",
    "\n",
    "# Display the final weights after 50 iterations\n",
    "print(\"Final Weights after 50 iterations:\", w)\n"
   ]
  },
  {
   "cell_type": "markdown",
   "metadata": {},
   "source": [
    "> **Ex. 11.1.7**: Make a function to compute the mean squared error. Alter the loop so it makes 100 iterations and computes the MSE for test and train after each iteration, plot these in one figure. \n",
    "\n",
    "> Hint: You can use the following code to check that your model works:\n",
    ">```python\n",
    "from sklearn.linear_model import LinearRegression\n",
    "reg = LinearRegression()\n",
    "reg.fit(X_train, y_train)\n",
    "assert((w[1:] - reg.coef_).sum() < 0.01)\n",
    "```"
   ]
  },
  {
   "cell_type": "code",
   "execution_count": null,
   "metadata": {
    "deletable": false,
    "nbgrader": {
     "cell_type": "code",
     "checksum": "863ac125b673cb711cfc5269a05d1bf5",
     "grade": false,
     "grade_id": "cell-5cabc75ac6152434",
     "locked": false,
     "schema_version": 3,
     "solution": true,
     "task": false
    }
   },
   "outputs": [],
   "source": [
    "# YOUR CODE HERE\n",
    "\n",
    "# Solution to Ex. 11.1.7\n",
    "\n",
    "import numpy as np\n",
    "import pandas as pd\n",
    "import seaborn as sns\n",
    "import matplotlib.pyplot as plt\n",
    "from sklearn.model_selection import train_test_split\n",
    "from sklearn.preprocessing import StandardScaler\n",
    "from sklearn.linear_model import LinearRegression\n",
    "\n",
    "# Load the 'tips' dataset\n",
    "tips = sns.load_dataset('tips')\n",
    "\n",
    "# Convert non-numeric variables to dummy variables\n",
    "tips_dummies = pd.get_dummies(tips, drop_first=True)\n",
    "\n",
    "# Separate the target variable 'tip' and features\n",
    "y = tips_dummies['tip']\n",
    "X = tips_dummies.drop('tip', axis=1)\n",
    "\n",
    "# Split the data into training and test sets (50% each)\n",
    "X_train, X_test, y_train, y_test = train_test_split(X, y, test_size=0.5, random_state=42)\n",
    "\n",
    "# Initialize the StandardScaler\n",
    "scaler = StandardScaler()\n",
    "\n",
    "# Fit the scaler on the training data and transform both training and test data\n",
    "X_train_scaled = scaler.fit_transform(X_train)\n",
    "X_test_scaled = scaler.transform(X_test)\n",
    "\n",
    "# Add a bias term (column of ones) to the features\n",
    "X_train_scaled_bias = np.c_[np.ones(X_train_scaled.shape[0]), X_train_scaled]\n",
    "X_test_scaled_bias = np.c_[np.ones(X_test_scaled.shape[0]), X_test_scaled]\n",
    "\n",
    "# Initialize weights (including the bias weight)\n",
    "w = np.zeros(X_train_scaled_bias.shape[1])\n",
    "\n",
    "# Set the learning rate\n",
    "eta = 0.001\n",
    "\n",
    "def compute_mse(y_, X_, w_):\n",
    "    \"\"\"\n",
    "    Compute the mean squared error given the target y_, features X_, and weights w_.\n",
    "    \n",
    "    Parameters:\n",
    "    y_ (numpy array): The true target values.\n",
    "    X_ (numpy array): The feature values including bias.\n",
    "    w_ (numpy array): The weights.\n",
    "    \n",
    "    Returns:\n",
    "    float: The mean squared error of the predictions.\n",
    "    \"\"\"\n",
    "    # Compute the predictions\n",
    "    predictions = X_ @ w_\n",
    "    \n",
    "    # Compute the errors\n",
    "    errors = y_ - predictions\n",
    "    \n",
    "    # Compute the mean squared error\n",
    "    mean_squared_error = np.mean(errors ** 2)\n",
    "    \n",
    "    return mean_squared_error\n",
    "\n",
    "def update_weights(y_, X_, w_, eta):\n",
    "    \"\"\"\n",
    "    Update the weights using gradient descent.\n",
    "    \n",
    "    Parameters:\n",
    "    y_ (numpy array): The true target values.\n",
    "    X_ (numpy array): The feature values including bias.\n",
    "    w_ (numpy array): The current weights.\n",
    "    eta (float): The learning rate.\n",
    "    \n",
    "    Returns:\n",
    "    numpy array: The updated weights.\n",
    "    \"\"\"\n",
    "    # Compute the predictions\n",
    "    predictions = X_ @ w_\n",
    "    \n",
    "    # Compute the errors\n",
    "    errors = y_ - predictions\n",
    "    \n",
    "    # Compute the gradient\n",
    "    gradient = - (X_.T @ errors) / len(y_)\n",
    "    \n",
    "    # Update the weights\n",
    "    w_updated = w_ - eta * gradient\n",
    "    \n",
    "    return w_updated\n",
    "\n",
    "# Initialize lists to store MSE values\n",
    "MSE_train = []\n",
    "MSE_test = []\n",
    "\n",
    "# Perform gradient descent with 100 iterations\n",
    "num_iterations = 100\n",
    "for i in range(num_iterations):\n",
    "    # Update weights\n",
    "    w = update_weights(y_train, X_train_scaled_bias, w, eta)\n",
    "    \n",
    "    # Compute MSE for training and test sets\n",
    "    mse_train = compute_mse(y_train, X_train_scaled_bias, w)\n",
    "    mse_test = compute_mse(y_test, X_test_scaled_bias, w)\n",
    "    \n",
    "    # Append MSE values to lists\n",
    "    MSE_train.append(mse_train)\n",
    "    MSE_test.append(mse_test)\n",
    "\n",
    "# Plot the MSE values\n",
    "plt.figure(figsize=(10, 6))\n",
    "plt.plot(MSE_train, label='Train MSE', color='blue')\n",
    "plt.plot(MSE_test, label='Test MSE', color='red')\n",
    "plt.xlabel('Iteration')\n",
    "plt.ylabel('Mean Squared Error')\n",
    "plt.title('Train and Test MSE Over Iterations')\n",
    "plt.legend()\n",
    "plt.grid(True)\n",
    "plt.show()\n",
    "\n",
    "# Verify the implementation with sklearn's LinearRegression\n",
    "reg = LinearRegression()\n",
    "reg.fit(X_train, y_train)\n",
    "assert((w[1:] - reg.coef_).sum() < 0.01)\n",
    "\n",
    "print(\"Final weights from gradient descent:\", w)\n",
    "print(\"Coefficients from sklearn's LinearRegression:\", reg.coef_)\n"
   ]
  },
  {
   "cell_type": "markdown",
   "metadata": {},
   "source": [
    "# Part 2: Overfitting and Underfitting in Linear Regression \n",
    "\n",
    "## Exploring Overfitting in Linear Regression\n",
    "How does overfitting manifest itself in linear regression? In the video below we simulate what happens as make a better and better taylor approximation, i.e. we estimate a polynomial of higher and higher order. Two issues arise simultaneously - one is related to the number of parameters and the to the size of the parameters. "
   ]
  },
  {
   "cell_type": "code",
   "execution_count": null,
   "metadata": {},
   "outputs": [],
   "source": [
    "from IPython.display import YouTubeVideo\n",
    "YouTubeVideo('NPARac_fnXw', width=640, height=360)"
   ]
  },
  {
   "cell_type": "markdown",
   "metadata": {},
   "source": [
    "## A Cure for Overfitting in Linear Regression\n",
    "\n",
    "How do we fix the two issues of excessively large weights/coefficients and too many spurious solutions? The video below provides a solution by directly incorporating these issues into the optimization problem."
   ]
  },
  {
   "cell_type": "code",
   "execution_count": null,
   "metadata": {},
   "outputs": [],
   "source": [
    "from IPython.display import YouTubeVideo\n",
    "YouTubeVideo('SzPuyUCA5Mw', width=640, height=360)"
   ]
  },
  {
   "cell_type": "markdown",
   "metadata": {},
   "source": [
    "Above we tackled overfitting, but what about ***underfitting***? The video below shows how to address underfitting and also zooms in on some important details about regularization."
   ]
  },
  {
   "cell_type": "code",
   "execution_count": null,
   "metadata": {},
   "outputs": [],
   "source": [
    "from IPython.display import YouTubeVideo\n",
    "YouTubeVideo('64VOY77PHPk', width=640, height=360)"
   ]
  },
  {
   "cell_type": "markdown",
   "metadata": {},
   "source": [
    "> **Ex. 11.2.1 (BONUS)**: Is it possible to add a penalty to our linear model above and solve this Lasso model with gradient descent? Is there a simple fix?\n",
    ">\n",
    "> *Hint:* Gradient descent essentially relies on a differentiable loss function (read more [here](https://stats.stackexchange.com/questions/177800/why-proximal-gradient-descent-instead-of-plain-subgradient-methods-for-lasso))"
   ]
  },
  {
   "cell_type": "code",
   "execution_count": null,
   "metadata": {
    "deletable": false,
    "nbgrader": {
     "cell_type": "code",
     "checksum": "04b4c075a4bad7561c1e03bf809f7faf",
     "grade": false,
     "grade_id": "cell-6aa146e9c530b2b4",
     "locked": false,
     "schema_version": 3,
     "solution": true,
     "task": false
    }
   },
   "outputs": [],
   "source": [
    "# YOUR CODE HERE\n",
    "\n",
    "# Solution to Ex. 11.2.1\n",
    "\n",
    "#No, we cannot exactly solve for the Lasso with gradient descent. However, \n",
    "# we can make an approximate solution which is pretty close and quite intuitive - \n",
    "# see good explanation here: https://stats.stackexchange.com/questions/177800/why-proximal-gradient-descent-instead-of-plain-subgradient-methods-for-lasso."
   ]
  },
  {
   "cell_type": "markdown",
   "metadata": {},
   "source": [
    "# Part 3: Modelling Houseprices\n",
    "In this example, we will try to predict houseprices using a lot of variable (or features as they are called in Machine Learning). We are going to work with Kaggle's dataset on house prices, see information [here](https://www.kaggle.com/c/house-prices-advanced-regression-techniques). Kaggle is an organization that hosts competitions in building predictive models."
   ]
  },
  {
   "cell_type": "markdown",
   "metadata": {},
   "source": [
    "> **Ex. 11.3.0:** Load the california housing data with scikit-learn using the code below. Now:\n",
    "> 1. Inspect *cal_house*. How are the data stored?\n",
    "> 2. Create a pandas DataFrame called *X*, using `data`. Name the columns using `feature_names`.\n",
    "> 3. Crate a pandas Series called *y* using `target`.\n",
    "> 4. Make a train test split of equal size."
   ]
  },
  {
   "cell_type": "code",
   "execution_count": null,
   "metadata": {
    "deletable": false,
    "nbgrader": {
     "cell_type": "code",
     "checksum": "08ca919735b17dfbf96058bf07f4eeab",
     "grade": false,
     "grade_id": "cell-5f14e576643ac94c",
     "locked": false,
     "schema_version": 3,
     "solution": true,
     "task": false
    }
   },
   "outputs": [],
   "source": [
    "\n",
    "# YOUR CODE HERE\n",
    "\n",
    "# Solution to Ex. 11.3.0\n",
    "\n",
    "from sklearn.datasets import fetch_california_housing\n",
    "from sklearn.model_selection import train_test_split\n",
    "\n",
    "cal_house = fetch_california_housing()    \n",
    "\n",
    "### BEGIN SOLUTION\n",
    "X = pd.DataFrame(data=cal_house['data'], \n",
    "                 columns=cal_house['feature_names'])\\\n",
    "             .iloc[:,:-2]\n",
    "y = cal_house['target']\n",
    "\n",
    "X_train, X_test, y_train, y_test = train_test_split(X, y, test_size=.5, random_state=1)\n",
    "\n",
    "X_train.describe()"
   ]
  },
  {
   "cell_type": "markdown",
   "metadata": {},
   "source": [
    "\n",
    "\n",
    "> **Ex.11.3.1**: Generate interactions between all features to third degree (make sure you **exclude** the bias/intercept term). How many variables are there? Will OLS fail? After making interactions, rescale the features to have zero mean, unit std. deviation. Should you use the distribution of the training data to rescale the test data?  \n",
    "\n",
    "> *Hint 1*: Try importing `PolynomialFeatures` from `sklearn.preprocessing`\n",
    "\n",
    "> *Hint 2*: If in doubt about which distribution to scale, you may read [this post](https://stats.stackexchange.com/questions/174823/how-to-apply-standardization-normalization-to-train-and-testset-if-prediction-i)."
   ]
  },
  {
   "cell_type": "code",
   "execution_count": null,
   "metadata": {},
   "outputs": [],
   "source": [
    "# INCLUDED IN ASSIGNMENT 2"
   ]
  },
  {
   "cell_type": "code",
   "execution_count": null,
   "metadata": {
    "deletable": false,
    "nbgrader": {
     "cell_type": "code",
     "checksum": "ed00cd67cc7a2e431594d4cfe29da085",
     "grade": false,
     "grade_id": "cell-4aacfe9c22772c42",
     "locked": false,
     "schema_version": 3,
     "solution": true,
     "task": false
    }
   },
   "outputs": [],
   "source": [
    "# YOUR CODE HERE\n",
    "\n",
    "# Solution to Ex. 11.3.1\n",
    "\n",
    "from sklearn.preprocessing import PolynomialFeatures\n",
    "\n",
    "# Initialize PolynomialFeatures with degree=3 and include_bias=False\n",
    "poly = PolynomialFeatures(degree=3, include_bias=False)\n",
    "\n",
    "# Fit and transform the training data to generate interaction features\n",
    "X_poly_train = poly.fit_transform(X_train)\n",
    "\n",
    "# Check the number of features\n",
    "num_features = X_poly_train.shape[1]\n",
    "print(f\"Number of features after polynomial expansion: {num_features}\")\n",
    "\n",
    "from sklearn.preprocessing import StandardScaler\n",
    "\n",
    "# Initialize StandardScaler\n",
    "scaler = StandardScaler()\n",
    "\n",
    "# Fit the scaler on the training data\n",
    "X_poly_train_scaled = scaler.fit_transform(X_poly_train)\n",
    "\n",
    "# Transform the test data with the same scaler\n",
    "X_poly_test = poly.transform(X_test)\n",
    "X_poly_test_scaled = scaler.transform(X_poly_test)\n"
   ]
  },
  {
   "cell_type": "markdown",
   "metadata": {},
   "source": [
    "> **Ex.11.3.2**: Estimate the Lasso model on the rescaled train data set, using values of $\\lambda$ in the range from $10^{-4}$ to $10^4$. For each $\\lambda$  calculate and save the Root Mean Squared Error (RMSE) for the rescaled test and train data. Take a look at the fitted coefficients for different sizes of $\\lambda$. What happens when $\\lambda$ increases? Why?\n",
    "\n",
    "> *Hint 1*: use `logspace` in numpy to create the range.\n",
    "\n",
    "> *Hint 2*: read about the `coef_` feature [here](https://scikit-learn.org/stable/modules/generated/sklearn.linear_model.Lasso.html#sklearn.linear_model.Lasso).\n"
   ]
  },
  {
   "cell_type": "code",
   "execution_count": null,
   "metadata": {},
   "outputs": [],
   "source": [
    "# INCLUDED IN ASSIGNMENT 2"
   ]
  },
  {
   "cell_type": "code",
   "execution_count": 50,
   "metadata": {
    "deletable": false,
    "nbgrader": {
     "cell_type": "code",
     "checksum": "a5cb040dc44fd9a9f591f1193a1311ab",
     "grade": false,
     "grade_id": "cell-d981c29cec05057b",
     "locked": false,
     "schema_version": 3,
     "solution": true,
     "task": false
    }
   },
   "outputs": [],
   "source": [
    "# YOUR CODE HERE\n",
    "\n",
    "# Solution to Ex. 11.3.2\n",
    "\n",
    "import numpy as np\n",
    "from sklearn.linear_model import Lasso\n",
    "from sklearn.metrics import mean_squared_error\n",
    "\n",
    "# Define the range of lambda values using logspace\n",
    "lambdas = np.logspace(-4, 4, 100)  # 100 values from 10^-4 to 10^4\n",
    "\n",
    "# Lists to store RMSE values\n",
    "train_rmse = []\n",
    "test_rmse = []\n",
    "coefficients = []\n",
    "\n",
    "# Iterate over each lambda value\n",
    "for alpha in lambdas:\n",
    "    lasso = Lasso(alpha=alpha, max_iter=10000)  # Initialize Lasso with the current lambda\n",
    "    lasso.fit(X_poly_train_scaled, y_train)    # Fit the model\n",
    "    \n",
    "    # Predict on both training and test data\n",
    "    y_train_pred = lasso.predict(X_poly_train_scaled)\n",
    "    y_test_pred = lasso.predict(X_poly_test_scaled)\n",
    "    \n",
    "    # Compute RMSE for both training and test data\n",
    "    train_rmse.append(np.sqrt(mean_squared_error(y_train, y_train_pred)))\n",
    "    test_rmse.append(np.sqrt(mean_squared_error(y_test, y_test_pred)))\n",
    "    \n",
    "    # Store the coefficients\n",
    "    coefficients.append(lasso.coef_)\n",
    "\n",
    "import matplotlib.pyplot as plt\n",
    "\n",
    "plt.figure(figsize=(12, 6))\n",
    "plt.plot(lambdas, train_rmse, label='Train RMSE')\n",
    "plt.plot(lambdas, test_rmse, label='Test RMSE')\n",
    "plt.xscale('log')\n",
    "plt.xlabel('Lambda (alpha)')\n",
    "plt.ylabel('Root Mean Squared Error (RMSE)')\n",
    "plt.title('RMSE vs. Lambda for Lasso Regression')\n",
    "plt.legend()\n",
    "plt.show()\n",
    "\n",
    "# Convert list of coefficient arrays to a numpy array for easier manipulation\n",
    "coeffs_array = np.array(coefficients)\n",
    "\n",
    "# Plot coefficients for a subset of features\n",
    "plt.figure(figsize=(12, 6))\n",
    "for i in range(coeffs_array.shape[1]):\n",
    "    plt.plot(lambdas, coeffs_array[:, i], label=f'Feature {i}')\n",
    "plt.xscale('log')\n",
    "plt.xlabel('Lambda (alpha)')\n",
    "plt.ylabel('Coefficient Value')\n",
    "plt.title('Coefficients vs. Lambda for Lasso Regression')\n",
    "plt.legend()\n",
    "plt.show()\n",
    "\n"
   ]
  },
  {
   "cell_type": "markdown",
   "metadata": {},
   "source": [
    "> **Ex.11.3.3**: Make a plot with the lambdas on the x-axis and the RMSE measures on the y-axis. What happens to RMSE for train and test data as $\\lambda$ increases? The x-axis should be log scaled. Which one are we interested in minimizing? \n",
    "\n",
    "> Bonus: Can you find the lambda that gives the lowest MSE-test score?"
   ]
  },
  {
   "cell_type": "code",
   "execution_count": null,
   "metadata": {},
   "outputs": [],
   "source": [
    "# INCLUDED IN ASSIGNMENT 2"
   ]
  },
  {
   "cell_type": "code",
   "execution_count": null,
   "metadata": {
    "deletable": false,
    "nbgrader": {
     "cell_type": "code",
     "checksum": "3469299a7668bf4275e2824d1d454144",
     "grade": false,
     "grade_id": "cell-5a2846b33750acbc",
     "locked": false,
     "schema_version": 3,
     "solution": true,
     "task": false
    }
   },
   "outputs": [],
   "source": [
    "# YOUR CODE HERE\n",
    "\n",
    "# Solution to Ex. 11.3.3\n",
    "\n",
    "\n",
    "# Load the California housing data\n",
    "cal_house = fetch_california_housing()\n",
    "\n",
    "# Create pandas DataFrame and Series\n",
    "X = pd.DataFrame(cal_house.data, columns=cal_house.feature_names)\n",
    "y = pd.Series(cal_house.target, name='MedHouseVal')\n",
    "\n",
    "# Split the data into training and test sets (50% each)\n",
    "X_train, X_test, y_train, y_test = train_test_split(X, y, test_size=0.5, random_state=42)\n",
    "\n",
    "# Generate interactions between all features to third degree\n",
    "poly = PolynomialFeatures(degree=3, include_bias=False)\n",
    "X_train_poly = poly.fit_transform(X_train)\n",
    "X_test_poly = poly.transform(X_test)\n",
    "\n",
    "# Rescale the features to zero mean and unit std. deviation\n",
    "scaler = StandardScaler()\n",
    "X_train_scaled = scaler.fit_transform(X_train_poly)\n",
    "X_test_scaled = scaler.transform(X_test_poly)\n",
    "\n",
    "# Define a range of lambda values\n",
    "lambda_values = np.logspace(-4, 4, 100)\n",
    "\n",
    "# Lists to store RMSE values\n",
    "rmse_train = []\n",
    "rmse_test = []\n",
    "coefficients = []\n",
    "\n",
    "# Loop over each lambda value\n",
    "for lambda_ in lambda_values:\n",
    "    # Initialize and fit Lasso model\n",
    "    lasso = Lasso(alpha=lambda_, max_iter=10000)\n",
    "    lasso.fit(X_train_scaled, y_train)\n",
    "    \n",
    "    # Predict and calculate RMSE for training and test sets\n",
    "    y_train_pred = lasso.predict(X_train_scaled)\n",
    "    y_test_pred = lasso.predict(X_test_scaled)\n",
    "    \n",
    "    rmse_train.append(np.sqrt(mean_squared_error(y_train, y_train_pred)))\n",
    "    rmse_test.append(np.sqrt(mean_squared_error(y_test, y_test_pred)))\n",
    "    \n",
    "    # Save coefficients (optional, for analysis)\n",
    "    coefficients.append(lasso.coef_)\n",
    "\n",
    "# Convert lists to pandas Series for easy plotting\n",
    "rmse_train = pd.Series(rmse_train, index=lambda_values)\n",
    "rmse_test = pd.Series(rmse_test, index=lambda_values)\n",
    "\n",
    "# Plot RMSE vs. lambda\n",
    "plt.figure(figsize=(12, 6))\n",
    "plt.plot(rmse_train, label='Train RMSE', color='blue')\n",
    "plt.plot(rmse_test, label='Test RMSE', color='red')\n",
    "plt.xscale('log')\n",
    "plt.xlabel('Lambda')\n",
    "plt.ylabel('Root Mean Squared Error')\n",
    "plt.title('RMSE vs. Lambda for Lasso Regression')\n",
    "plt.legend()\n",
    "plt.grid(True)\n",
    "plt.show()\n",
    "\n",
    "# Bonus: Find the lambda with the lowest test RMSE\n",
    "best_lambda = rmse_test.idxmin()\n",
    "best_rmse_test = rmse_test.min()\n",
    "\n",
    "print(f\"Lambda with the lowest test RMSE: {best_lambda:.1e}\")\n",
    "print(f\"Lowest test RMSE: {best_rmse_test:.3f}\")\n"
   ]
  }
 ],
 "metadata": {
  "kernelspec": {
   "display_name": "Python 3 (ipykernel)",
   "language": "python",
   "name": "python3"
  },
  "language_info": {
   "codemirror_mode": {
    "name": "ipython",
    "version": 3
   },
   "file_extension": ".py",
   "mimetype": "text/x-python",
   "name": "python",
   "nbconvert_exporter": "python",
   "pygments_lexer": "ipython3",
   "version": "3.12.4"
  },
  "nav_menu": {},
  "toc": {
   "navigate_menu": true,
   "number_sections": false,
   "sideBar": true,
   "threshold": 6,
   "toc_cell": false,
   "toc_section_display": "block",
   "toc_window_display": true
  },
  "varInspector": {
   "cols": {
    "lenName": 16,
    "lenType": 16,
    "lenVar": 40
   },
   "kernels_config": {
    "python": {
     "delete_cmd_postfix": "",
     "delete_cmd_prefix": "del ",
     "library": "var_list.py",
     "varRefreshCmd": "print(var_dic_list())"
    },
    "r": {
     "delete_cmd_postfix": ") ",
     "delete_cmd_prefix": "rm(",
     "library": "var_list.r",
     "varRefreshCmd": "cat(var_dic_list()) "
    }
   },
   "types_to_exclude": [
    "module",
    "function",
    "builtin_function_or_method",
    "instance",
    "_Feature"
   ],
   "window_display": false
  }
 },
 "nbformat": 4,
 "nbformat_minor": 4
}
