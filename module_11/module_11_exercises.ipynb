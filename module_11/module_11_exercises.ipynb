{
 "cells": [
  {
   "cell_type": "markdown",
   "metadata": {
    "ExecuteTime": {
     "end_time": "2017-08-23T15:30:03.634114Z",
     "start_time": "2017-08-23T15:30:03.629294Z"
    }
   },
   "source": [
    "# Videos and Exercises for Session 11: Regression and Regularization\n",
    "\n",
    "In this combined teaching module and exercise set, you will learn about linear regression models in a machine learning perspective. We will see how overfitting can arise and how we can tackle it with a modification of the linear regression model.\n",
    "\n",
    "The structure of this notebook is as follows:\n",
    "1. Linear Regression Mechanics\n",
    "2. Overfitting and Underfitting in Linear Regression\n",
    "    - Exploring Overfitting in Linear Regression\n",
    "    - A Cure for Overfitting in Linear Regression\n",
    "3. Modelling Houseprices (Exercise)"
   ]
  },
  {
   "cell_type": "markdown",
   "metadata": {},
   "source": [
    "## Packages\n",
    "First, we need to import our standard stuff. Notice that we are not interested in seeing the convergence warning in scikit-learn, so we suppress them for now."
   ]
  },
  {
   "cell_type": "code",
   "execution_count": 40,
   "metadata": {},
   "outputs": [],
   "source": [
    "import warnings\n",
    "from sklearn.exceptions import ConvergenceWarning\n",
    "warnings.filterwarnings(action='ignore', category=ConvergenceWarning)\n",
    "\n",
    "import matplotlib.pyplot as plt\n",
    "import numpy as np \n",
    "import pandas as pd \n",
    "import seaborn as sns\n",
    "\n",
    "%matplotlib inline"
   ]
  },
  {
   "cell_type": "markdown",
   "metadata": {},
   "source": [
    "# Part 1: Linear Regression Mechanics\n",
    "## Implementing and evaluating the gradient decent \n",
    " \n",
    "Normally we use OLS to estimate linear regression models, but this is only way of solving the problem of minimizing the least squares problem (that minimizes the sum of squared errors). In the video below we show how to implement gradient descent below and compare it along with other approximate solutions to OLS."
   ]
  },
  {
   "cell_type": "code",
   "execution_count": 41,
   "metadata": {},
   "outputs": [
    {
     "data": {
      "image/jpeg": "[encoded data removed]",
      "text/html": [
       "\n",
       "        <iframe\n",
       "            width=\"640\"\n",
       "            height=\"360\"\n",
       "            src=\"https://www.youtube.com/embed/XidjsIseyv0\"\n",
       "            frameborder=\"0\"\n",
       "            allowfullscreen\n",
       "            \n",
       "        ></iframe>\n",
       "        "
      ],
      "text/plain": [
       "<IPython.lib.display.YouTubeVideo at 0x145fb9e80>"
      ]
     },
     "execution_count": 41,
     "metadata": {},
     "output_type": "execute_result"
    }
   ],
   "source": [
    "from IPython.display import YouTubeVideo\n",
    "YouTubeVideo('XidjsIseyv0', width=640, height=360)"
   ]
  },
  {
   "cell_type": "markdown",
   "metadata": {},
   "source": [
    "We continue straight to an exercise where you are to implement a new estimator that we code up from scratch. We solve the numerical optimization using the gradient decent algorithm. This will be very similar to what we just saw in the video, but we will pay a bit more attention to each step in the process.\n",
    "\n",
    "Using our algorithm, we will fit it to some data, and compare our own solution to the standard solution from `sklearn`"
   ]
  },
  {
   "cell_type": "markdown",
   "metadata": {},
   "source": [
    "> **Ex. 11.1.0**: Import the dataset `tips` from the `seaborn`.\n",
    "\n",
    "\n",
    "*Hint*: use the `load_dataset` method in seaborn"
   ]
  },
  {
   "cell_type": "code",
   "execution_count": 42,
   "metadata": {
    "deletable": false,
    "nbgrader": {
     "cell_type": "code",
     "checksum": "6e812556b5b6774ba76a4a1ccb89a169",
     "grade": false,
     "grade_id": "cell-2dd56f36f76bce57",
     "locked": false,
     "schema_version": 3,
     "solution": true,
     "task": false
    }
   },
   "outputs": [
    {
     "name": "stdout",
     "output_type": "stream",
     "text": [
      "   total_bill   tip     sex smoker  day    time  size\n",
      "0       16.99  1.01  Female     No  Sun  Dinner     2\n",
      "1       10.34  1.66    Male     No  Sun  Dinner     3\n",
      "2       21.01  3.50    Male     No  Sun  Dinner     3\n",
      "3       23.68  3.31    Male     No  Sun  Dinner     2\n",
      "4       24.59  3.61  Female     No  Sun  Dinner     4\n"
     ]
    }
   ],
   "source": [
    "# YOUR CODE HERE\n",
    "\n",
    "# Solution to Ex. 11.1.0\n",
    "\n",
    "import seaborn as sns\n",
    "\n",
    "# Load the 'tips' dataset\n",
    "tips = sns.load_dataset('tips')\n",
    "\n",
    "# Display the first few rows of the dataset\n",
    "print(tips.head())\n"
   ]
  },
  {
   "cell_type": "markdown",
   "metadata": {},
   "source": [
    "> **Ex. 11.1.1**: Convert non-numeric variables to dummy variables for each category (remember to leave one column out for each catagorical variable, so you have a reference). Restructure the data so we get a dataset `y` containing the variable tip, and a dataset `X` containing the \n",
    "features. \n",
    "\n",
    "> *Hint*: You might want to use the `get_dummies` method in pandas, with the `drop_first = True` parameter. "
   ]
  },
  {
   "cell_type": "code",
   "execution_count": 43,
   "metadata": {
    "deletable": false,
    "nbgrader": {
     "cell_type": "code",
     "checksum": "2ce55b897e3acd6727916dffe21150f6",
     "grade": false,
     "grade_id": "cell-2e42eb4f59160bed",
     "locked": false,
     "schema_version": 3,
     "solution": true,
     "task": false
    }
   },
   "outputs": [
    {
     "name": "stdout",
     "output_type": "stream",
     "text": [
      "Features (X):\n",
      "   total_bill  size  sex_Female  smoker_No  day_Fri  day_Sat  day_Sun  \\\n",
      "0       16.99     2        True       True    False    False     True   \n",
      "1       10.34     3       False       True    False    False     True   \n",
      "2       21.01     3       False       True    False    False     True   \n",
      "3       23.68     2       False       True    False    False     True   \n",
      "4       24.59     4        True       True    False    False     True   \n",
      "\n",
      "   time_Dinner  \n",
      "0         True  \n",
      "1         True  \n",
      "2         True  \n",
      "3         True  \n",
      "4         True  \n",
      "\n",
      "Target (y):\n",
      "0    1.01\n",
      "1    1.66\n",
      "2    3.50\n",
      "3    3.31\n",
      "4    3.61\n",
      "Name: tip, dtype: float64\n"
     ]
    }
   ],
   "source": [
    "# YOUR CODE HERE\n",
    "\n",
    "# Solution to Ex. 11.1.1\n",
    "\n",
    "import pandas as pd\n",
    "import seaborn as sns\n",
    "\n",
    "# Load the 'tips' dataset\n",
    "tips = sns.load_dataset('tips')\n",
    "\n",
    "# Convert non-numeric variables to dummy variables\n",
    "# Drop the first category to avoid multicollinearity\n",
    "tips_dummies = pd.get_dummies(tips, drop_first=True)\n",
    "\n",
    "# Separate the target variable 'tip'\n",
    "y = tips_dummies['tip']\n",
    "\n",
    "# Separate the features\n",
    "X = tips_dummies.drop('tip', axis=1)\n",
    "\n",
    "# Display the first few rows of X and y to verify\n",
    "print(\"Features (X):\")\n",
    "print(X.head())\n",
    "\n",
    "print(\"\\nTarget (y):\")\n",
    "print(y.head())\n"
   ]
  },
  {
   "cell_type": "markdown",
   "metadata": {},
   "source": [
    "> **Ex. 11.1.2**: Divide the features and target into test and train data. Make the split 50 pct. of each. The split data should be called `X_train`, `X_test`, `y_train`, `y_test`.\n",
    "\n",
    "> *Hint*: You may use `train_test_split` in `sklearn.model_selection`."
   ]
  },
  {
   "cell_type": "code",
   "execution_count": 44,
   "metadata": {
    "deletable": false,
    "nbgrader": {
     "cell_type": "code",
     "checksum": "eb3675bb8e21477c6f5c76f67a3a5ed0",
     "grade": false,
     "grade_id": "cell-ba197171f1b2bfef",
     "locked": false,
     "schema_version": 3,
     "solution": true,
     "task": false
    }
   },
   "outputs": [
    {
     "name": "stdout",
     "output_type": "stream",
     "text": [
      "Training feature set (X_train) shape: (122, 8)\n",
      "Testing feature set (X_test) shape: (122, 8)\n",
      "Training target set (y_train) shape: (122,)\n",
      "Testing target set (y_test) shape: (122,)\n"
     ]
    }
   ],
   "source": [
    "# YOUR CODE HERE\n",
    "\n",
    "# Solution to Ex. 11.1.2\n",
    "\n",
    "from sklearn.model_selection import train_test_split\n",
    "\n",
    "# Assuming X and y have already been defined as shown in the previous steps\n",
    "\n",
    "# Split the data into training and test sets (50% each)\n",
    "X_train, X_test, y_train, y_test = train_test_split(X, y, test_size=0.5, random_state=42)\n",
    "\n",
    "# Display the shapes of the resulting datasets to verify\n",
    "print(\"Training feature set (X_train) shape:\", X_train.shape)\n",
    "print(\"Testing feature set (X_test) shape:\", X_test.shape)\n",
    "print(\"Training target set (y_train) shape:\", y_train.shape)\n",
    "print(\"Testing target set (y_test) shape:\", y_test.shape)\n"
   ]
  },
  {
   "cell_type": "markdown",
   "metadata": {},
   "source": [
    "> **Ex. 11.1.3**: Normalize your features by converting to zero mean and one std. deviation.\n",
    "\n",
    "> *Hint*: Take a look at `StandardScaler` in `sklearn.preprocessing`. If in doubt about which distribution to scale, you may read [this post](https://stats.stackexchange.com/questions/174823/how-to-apply-standardization-normalization-to-train-and-testset-if-prediction-i)."
   ]
  },
  {
   "cell_type": "code",
   "execution_count": 45,
   "metadata": {
    "deletable": false,
    "nbgrader": {
     "cell_type": "code",
     "checksum": "5a4d5e2ed6417f454e18385a2804a19b",
     "grade": false,
     "grade_id": "cell-8ab591d5927be1d5",
     "locked": false,
     "schema_version": 3,
     "solution": true,
     "task": false
    }
   },
   "outputs": [
    {
     "name": "stdout",
     "output_type": "stream",
     "text": [
      "Scaled Training Feature Set (X_train_scaled):\n",
      "   total_bill      size  sex_Female  smoker_No   day_Fri   day_Sat   day_Sun  \\\n",
      "0    0.103667 -0.594225   -0.777987  -1.200000  3.346640 -0.751068 -0.659768   \n",
      "1   -0.418401  0.487796   -0.777987   0.833333 -0.298807  1.331438 -0.659768   \n",
      "2    0.774580  3.733860    1.285369   0.833333 -0.298807 -0.751068 -0.659768   \n",
      "3   -0.696097 -0.594225   -0.777987  -1.200000 -0.298807  1.331438 -0.659768   \n",
      "4   -0.478383 -0.594225    1.285369   0.833333 -0.298807  1.331438 -0.659768   \n",
      "\n",
      "   time_Dinner  \n",
      "0     0.634270  \n",
      "1     0.634270  \n",
      "2    -1.576615  \n",
      "3     0.634270  \n",
      "4     0.634270  \n",
      "\n",
      "Scaled Test Feature Set (X_test_scaled):\n",
      "   total_bill      size  sex_Female  smoker_No   day_Fri   day_Sat   day_Sun  \\\n",
      "0   -0.028516 -0.594225   -0.777987   0.833333 -0.298807  1.331438 -0.659768   \n",
      "1   -1.255932 -0.594225   -0.777987   0.833333 -0.298807 -0.751068  1.515684   \n",
      "2    0.496884  1.569818   -0.777987   0.833333 -0.298807 -0.751068  1.515684   \n",
      "3    0.645729  1.569818   -0.777987  -1.200000 -0.298807  1.331438 -0.659768   \n",
      "4   -0.786070 -0.594225    1.285369  -1.200000 -0.298807 -0.751068 -0.659768   \n",
      "\n",
      "   time_Dinner  \n",
      "0     0.634270  \n",
      "1     0.634270  \n",
      "2     0.634270  \n",
      "3     0.634270  \n",
      "4    -1.576615  \n"
     ]
    }
   ],
   "source": [
    "# YOUR CODE HERE\n",
    "\n",
    "# Solution to Ex. 11.1.3\n",
    "\n",
    "from sklearn.preprocessing import StandardScaler\n",
    "from sklearn.model_selection import train_test_split\n",
    "import seaborn as sns\n",
    "import pandas as pd\n",
    "\n",
    "# Load the 'tips' dataset\n",
    "tips = sns.load_dataset('tips')\n",
    "\n",
    "# Convert non-numeric variables to dummy variables\n",
    "tips_dummies = pd.get_dummies(tips, drop_first=True)\n",
    "\n",
    "# Separate the target variable 'tip' and features\n",
    "y = tips_dummies['tip']\n",
    "X = tips_dummies.drop('tip', axis=1)\n",
    "\n",
    "# Split the data into training and test sets (50% each)\n",
    "X_train, X_test, y_train, y_test = train_test_split(X, y, test_size=0.5, random_state=42)\n",
    "\n",
    "# Initialize the StandardScaler\n",
    "scaler = StandardScaler()\n",
    "\n",
    "# Fit the scaler on the training data and transform both training and test data\n",
    "X_train_scaled = scaler.fit_transform(X_train)\n",
    "X_test_scaled = scaler.transform(X_test)\n",
    "\n",
    "# Convert the scaled data back to DataFrames for easier handling\n",
    "X_train_scaled = pd.DataFrame(X_train_scaled, columns=X_train.columns)\n",
    "X_test_scaled = pd.DataFrame(X_test_scaled, columns=X_test.columns)\n",
    "\n",
    "# Display the first few rows of the scaled training data\n",
    "print(\"Scaled Training Feature Set (X_train_scaled):\")\n",
    "print(X_train_scaled.head())\n",
    "\n",
    "# Display the first few rows of the scaled test data\n",
    "print(\"\\nScaled Test Feature Set (X_test_scaled):\")\n",
    "print(X_test_scaled.head())\n"
   ]
  },
  {
   "cell_type": "markdown",
   "metadata": {},
   "source": [
    "> **Ex. 11.1.4**: Make a function called `compute_error` to compute the prediction errors given input target `y_`, input features `X_` and input weights `w_`. You should use matrix multiplication.\n",
    ">\n",
    "> *Hint:* You can use the net-input fct. from yesterday.\n",
    "\n"
   ]
  },
  {
   "cell_type": "code",
   "execution_count": 46,
   "metadata": {
    "deletable": false,
    "nbgrader": {
     "cell_type": "code",
     "checksum": "b03c6de7d3488e832c4d3eb123587e17",
     "grade": false,
     "grade_id": "cell-a70101715bbbb443",
     "locked": false,
     "schema_version": 3,
     "solution": true,
     "task": false
    }
   },
   "outputs": [],
   "source": [
    "# YOUR CODE HERE\n",
    "\n",
    "# Solution to Ex. 11.1.4\n",
    "\n",
    "import numpy as np\n",
    "\n",
    "def compute_error(y_, X_, w_):\n",
    "    \"\"\"\n",
    "    Compute the prediction errors given the target y_, features X_, and weights w_.\n",
    "    \n",
    "    Parameters:\n",
    "    y_ (numpy array or pandas Series): The true target values.\n",
    "    X_ (numpy array or pandas DataFrame): The feature values.\n",
    "    w_ (numpy array): The weights for the features.\n",
    "    \n",
    "    Returns:\n",
    "    float: The mean squared error of the predictions.\n",
    "    \"\"\"\n",
    "    # Ensure that y_ and X_ are numpy arrays\n",
    "    y_ = np.asarray(y_)\n",
    "    X_ = np.asarray(X_)\n",
    "    \n",
    "    # Compute the predictions\n",
    "    predictions = X_ @ w_\n",
    "    \n",
    "    # Compute the errors\n",
    "    errors = y_ - predictions\n",
    "    \n",
    "    # Compute the mean squared error\n",
    "    mean_squared_error = np.mean(errors ** 2)\n",
    "    \n",
    "    return mean_squared_error\n",
    "\n",
    "# Example usage:\n",
    "# Assuming X_train_scaled, y_train, and weights (w_) have been defined\n",
    "# You would call compute_error like this:\n",
    "# error = compute_error(y_train, X_train_scaled, weights)\n",
    "# print(\"Mean Squared Error:\", error)\n"
   ]
  },
  {
   "cell_type": "markdown",
   "metadata": {},
   "source": [
    "> **Ex. 11.1.5**: Make a function to update the weights given input target `y_`, input features `X_` and input weights `w_` as well as learning rate, $\\eta$, i.e. greek `eta`. You should use matrix multiplication."
   ]
  },
  {
   "cell_type": "code",
   "execution_count": 47,
   "metadata": {},
   "outputs": [],
   "source": [
    "# INCLUDED IN ASSIGNMENT 2"
   ]
  },
  {
   "cell_type": "code",
   "execution_count": 48,
   "metadata": {
    "deletable": false,
    "nbgrader": {
     "cell_type": "code",
     "checksum": "6cd45bb01781e944c41227e59873a6df",
     "grade": false,
     "grade_id": "cell-049443f1aafb8903",
     "locked": false,
     "schema_version": 3,
     "solution": true,
     "task": false
    }
   },
   "outputs": [],
   "source": [
    "# YOUR CODE HERE\n",
    "\n",
    "# Solution to Ex. 11.1.5\n",
    "\n",
    "import numpy as np\n",
    "\n",
    "def update_weights(y_, X_, w_, eta):\n",
    "    \"\"\"\n",
    "    Update the weights using gradient descent.\n",
    "    \n",
    "    Parameters:\n",
    "    y_ (numpy array or pandas Series): The true target values.\n",
    "    X_ (numpy array or pandas DataFrame): The feature values.\n",
    "    w_ (numpy array): The current weights.\n",
    "    eta (float): The learning rate.\n",
    "    \n",
    "    Returns:\n",
    "    numpy array: The updated weights.\n",
    "    \"\"\"\n",
    "    # Ensure that y_ and X_ are numpy arrays\n",
    "    y_ = np.asarray(y_)\n",
    "    X_ = np.asarray(X_)\n",
    "    \n",
    "    # Compute the predictions\n",
    "    predictions = X_ @ w_\n",
    "    \n",
    "    # Compute the errors\n",
    "    errors = y_ - predictions\n",
    "    \n",
    "    # Compute the gradient\n",
    "    gradient = - (X_.T @ errors) / len(y_)\n",
    "    \n",
    "    # Update the weights\n",
    "    w_updated = w_ - eta * gradient\n",
    "    \n",
    "    return w_updated\n",
    "\n",
    "# Example usage:\n",
    "# Assuming X_train_scaled, y_train, initial_weights, and learning_rate (eta) have been defined\n",
    "# updated_weights = update_weights(y_train, X_train_scaled, initial_weights, learning_rate)\n",
    "# print(\"Updated Weights:\", updated_weights)\n"
   ]
  },
  {
   "cell_type": "markdown",
   "metadata": {},
   "source": [
    "> **Ex. 11.1.6**: Use the code below to initialize weights `w` at zero given feature set `X`. Notice how we include an extra weight that includes the bias term. Set the learning rate `eta` to 0.001. Make a loop with 50 iterations where you iteratively apply your weight updating function. \n",
    "\n",
    ">```python\n",
    "w = np.zeros(1+X_train.shape[1])\n",
    "```"
   ]
  },
  {
   "cell_type": "code",
   "execution_count": 49,
   "metadata": {},
   "outputs": [],
   "source": [
    "# INCLUDED IN ASSIGNMENT 2"
   ]
  },
  {
   "cell_type": "code",
   "execution_count": 50,
   "metadata": {
    "deletable": false,
    "nbgrader": {
     "cell_type": "code",
     "checksum": "6308f5593a6e65ab57b86368ceef6669",
     "grade": false,
     "grade_id": "cell-74c4170d3d5fe322",
     "locked": false,
     "schema_version": 3,
     "solution": true,
     "task": false
    }
   },
   "outputs": [
    {
     "name": "stdout",
     "output_type": "stream",
     "text": [
      "Final Weights after 50 iterations: [ 0.14727101  0.04533146  0.03808385 -0.00537481  0.01141384 -0.00931472\n",
      "  0.00138905  0.00738645  0.00656456]\n"
     ]
    }
   ],
   "source": [
    "# YOUR CODE HERE\n",
    "\n",
    "# Solution to Ex. 11.1.6\n",
    "\n",
    "import numpy as np\n",
    "import seaborn as sns\n",
    "import pandas as pd\n",
    "from sklearn.model_selection import train_test_split\n",
    "from sklearn.preprocessing import StandardScaler\n",
    "\n",
    "# Load the 'tips' dataset\n",
    "tips = sns.load_dataset('tips')\n",
    "\n",
    "# Convert non-numeric variables to dummy variables\n",
    "tips_dummies = pd.get_dummies(tips, drop_first=True)\n",
    "\n",
    "# Separate the target variable 'tip' and features\n",
    "y = tips_dummies['tip']\n",
    "X = tips_dummies.drop('tip', axis=1)\n",
    "\n",
    "# Split the data into training and test sets (50% each)\n",
    "X_train, X_test, y_train, y_test = train_test_split(X, y, test_size=0.5, random_state=42)\n",
    "\n",
    "# Initialize the StandardScaler\n",
    "scaler = StandardScaler()\n",
    "\n",
    "# Fit the scaler on the training data and transform both training and test data\n",
    "X_train_scaled = scaler.fit_transform(X_train)\n",
    "X_test_scaled = scaler.transform(X_test)\n",
    "\n",
    "# Add a bias term (column of ones) to the features\n",
    "X_train_scaled_bias = np.c_[np.ones(X_train_scaled.shape[0]), X_train_scaled]\n",
    "X_test_scaled_bias = np.c_[np.ones(X_test_scaled.shape[0]), X_test_scaled]\n",
    "\n",
    "# Initialize weights (including the bias weight)\n",
    "w = np.zeros(X_train_scaled_bias.shape[1])\n",
    "\n",
    "# Set the learning rate\n",
    "eta = 0.001\n",
    "\n",
    "def update_weights(y_, X_, w_, eta):\n",
    "    \"\"\"\n",
    "    Update the weights using gradient descent.\n",
    "    \n",
    "    Parameters:\n",
    "    y_ (numpy array): The true target values.\n",
    "    X_ (numpy array): The feature values including bias.\n",
    "    w_ (numpy array): The current weights.\n",
    "    eta (float): The learning rate.\n",
    "    \n",
    "    Returns:\n",
    "    numpy array: The updated weights.\n",
    "    \"\"\"\n",
    "    # Compute the predictions\n",
    "    predictions = X_ @ w_\n",
    "    \n",
    "    # Compute the errors\n",
    "    errors = y_ - predictions\n",
    "    \n",
    "    # Compute the gradient\n",
    "    gradient = - (X_.T @ errors) / len(y_)\n",
    "    \n",
    "    # Update the weights\n",
    "    w_updated = w_ - eta * gradient\n",
    "    \n",
    "    return w_updated\n",
    "\n",
    "# Perform gradient descent with 50 iterations\n",
    "num_iterations = 50\n",
    "for i in range(num_iterations):\n",
    "    w = update_weights(y_train, X_train_scaled_bias, w, eta)\n",
    "\n",
    "# Display the final weights after 50 iterations\n",
    "print(\"Final Weights after 50 iterations:\", w)\n"
   ]
  },
  {
   "cell_type": "markdown",
   "metadata": {},
   "source": [
    "> **Ex. 11.1.7**: Make a function to compute the mean squared error. Alter the loop so it makes 100 iterations and computes the MSE for test and train after each iteration, plot these in one figure. \n",
    "\n",
    "> Hint: You can use the following code to check that your model works:\n",
    ">```python\n",
    "from sklearn.linear_model import LinearRegression\n",
    "reg = LinearRegression()\n",
    "reg.fit(X_train, y_train)\n",
    "assert((w[1:] - reg.coef_).sum() < 0.01)\n",
    "```"
   ]
  },
  {
   "cell_type": "code",
   "execution_count": 51,
   "metadata": {
    "deletable": false,
    "nbgrader": {
     "cell_type": "code",
     "checksum": "863ac125b673cb711cfc5269a05d1bf5",
     "grade": false,
     "grade_id": "cell-5cabc75ac6152434",
     "locked": false,
     "schema_version": 3,
     "solution": true,
     "task": false
    }
   },
   "outputs": [
    {
     "data": {
      "image/png": "[encoded data removed]",
      "text/plain": [
       "<Figure size 1000x600 with 1 Axes>"
      ]
     },
     "metadata": {},
     "output_type": "display_data"
    },
    {
     "name": "stdout",
     "output_type": "stream",
     "text": [
      "Final weights from gradient descent: [ 0.28735603  0.08725927  0.07282573 -0.00998624  0.02182391 -0.01717259\n",
      "  0.00256632  0.01327024  0.01170483]\n",
      "Coefficients from sklearn's LinearRegression: [ 0.08702874  0.40251676 -0.03757021  0.42297334  0.27453273  0.2487848\n",
      "  0.1016093  -0.41539557]\n"
     ]
    }
   ],
   "source": [
    "# YOUR CODE HERE\n",
    "\n",
    "# Solution to Ex. 11.1.7\n",
    "\n",
    "import numpy as np\n",
    "import pandas as pd\n",
    "import seaborn as sns\n",
    "import matplotlib.pyplot as plt\n",
    "from sklearn.model_selection import train_test_split\n",
    "from sklearn.preprocessing import StandardScaler\n",
    "from sklearn.linear_model import LinearRegression\n",
    "\n",
    "# Load the 'tips' dataset\n",
    "tips = sns.load_dataset('tips')\n",
    "\n",
    "# Convert non-numeric variables to dummy variables\n",
    "tips_dummies = pd.get_dummies(tips, drop_first=True)\n",
    "\n",
    "# Separate the target variable 'tip' and features\n",
    "y = tips_dummies['tip']\n",
    "X = tips_dummies.drop('tip', axis=1)\n",
    "\n",
    "# Split the data into training and test sets (50% each)\n",
    "X_train, X_test, y_train, y_test = train_test_split(X, y, test_size=0.5, random_state=42)\n",
    "\n",
    "# Initialize the StandardScaler\n",
    "scaler = StandardScaler()\n",
    "\n",
    "# Fit the scaler on the training data and transform both training and test data\n",
    "X_train_scaled = scaler.fit_transform(X_train)\n",
    "X_test_scaled = scaler.transform(X_test)\n",
    "\n",
    "# Add a bias term (column of ones) to the features\n",
    "X_train_scaled_bias = np.c_[np.ones(X_train_scaled.shape[0]), X_train_scaled]\n",
    "X_test_scaled_bias = np.c_[np.ones(X_test_scaled.shape[0]), X_test_scaled]\n",
    "\n",
    "# Initialize weights (including the bias weight)\n",
    "w = np.zeros(X_train_scaled_bias.shape[1])\n",
    "\n",
    "# Set the learning rate\n",
    "eta = 0.001\n",
    "\n",
    "def compute_mse(y_, X_, w_):\n",
    "    \"\"\"\n",
    "    Compute the mean squared error given the target y_, features X_, and weights w_.\n",
    "    \n",
    "    Parameters:\n",
    "    y_ (numpy array): The true target values.\n",
    "    X_ (numpy array): The feature values including bias.\n",
    "    w_ (numpy array): The weights.\n",
    "    \n",
    "    Returns:\n",
    "    float: The mean squared error of the predictions.\n",
    "    \"\"\"\n",
    "    # Compute the predictions\n",
    "    predictions = X_ @ w_\n",
    "    \n",
    "    # Compute the errors\n",
    "    errors = y_ - predictions\n",
    "    \n",
    "    # Compute the mean squared error\n",
    "    mean_squared_error = np.mean(errors ** 2)\n",
    "    \n",
    "    return mean_squared_error\n",
    "\n",
    "def update_weights(y_, X_, w_, eta):\n",
    "    \"\"\"\n",
    "    Update the weights using gradient descent.\n",
    "    \n",
    "    Parameters:\n",
    "    y_ (numpy array): The true target values.\n",
    "    X_ (numpy array): The feature values including bias.\n",
    "    w_ (numpy array): The current weights.\n",
    "    eta (float): The learning rate.\n",
    "    \n",
    "    Returns:\n",
    "    numpy array: The updated weights.\n",
    "    \"\"\"\n",
    "    # Compute the predictions\n",
    "    predictions = X_ @ w_\n",
    "    \n",
    "    # Compute the errors\n",
    "    errors = y_ - predictions\n",
    "    \n",
    "    # Compute the gradient\n",
    "    gradient = - (X_.T @ errors) / len(y_)\n",
    "    \n",
    "    # Update the weights\n",
    "    w_updated = w_ - eta * gradient\n",
    "    \n",
    "    return w_updated\n",
    "\n",
    "# Initialize lists to store MSE values\n",
    "MSE_train = []\n",
    "MSE_test = []\n",
    "\n",
    "# Perform gradient descent with 100 iterations\n",
    "num_iterations = 100\n",
    "for i in range(num_iterations):\n",
    "    # Update weights\n",
    "    w = update_weights(y_train, X_train_scaled_bias, w, eta)\n",
    "    \n",
    "    # Compute MSE for training and test sets\n",
    "    mse_train = compute_mse(y_train, X_train_scaled_bias, w)\n",
    "    mse_test = compute_mse(y_test, X_test_scaled_bias, w)\n",
    "    \n",
    "    # Append MSE values to lists\n",
    "    MSE_train.append(mse_train)\n",
    "    MSE_test.append(mse_test)\n",
    "\n",
    "# Plot the MSE values\n",
    "plt.figure(figsize=(10, 6))\n",
    "plt.plot(MSE_train, label='Train MSE', color='blue')\n",
    "plt.plot(MSE_test, label='Test MSE', color='red')\n",
    "plt.xlabel('Iteration')\n",
    "plt.ylabel('Mean Squared Error')\n",
    "plt.title('Train and Test MSE Over Iterations')\n",
    "plt.legend()\n",
    "plt.grid(True)\n",
    "plt.show()\n",
    "\n",
    "# Verify the implementation with sklearn's LinearRegression\n",
    "reg = LinearRegression()\n",
    "reg.fit(X_train, y_train)\n",
    "assert((w[1:] - reg.coef_).sum() < 0.01)\n",
    "\n",
    "print(\"Final weights from gradient descent:\", w)\n",
    "print(\"Coefficients from sklearn's LinearRegression:\", reg.coef_)\n"
   ]
  },
  {
   "cell_type": "markdown",
   "metadata": {},
   "source": [
    "# Part 2: Overfitting and Underfitting in Linear Regression \n",
    "\n",
    "## Exploring Overfitting in Linear Regression\n",
    "How does overfitting manifest itself in linear regression? In the video below we simulate what happens as make a better and better taylor approximation, i.e. we estimate a polynomial of higher and higher order. Two issues arise simultaneously - one is related to the number of parameters and the to the size of the parameters. "
   ]
  },
  {
   "cell_type": "code",
   "execution_count": 52,
   "metadata": {},
   "outputs": [
    {
     "data": {
      "image/jpeg": "[encoded data removed]",
      "text/html": [
       "\n",
       "        <iframe\n",
       "            width=\"640\"\n",
       "            height=\"360\"\n",
       "            src=\"https://www.youtube.com/embed/NPARac_fnXw\"\n",
       "            frameborder=\"0\"\n",
       "            allowfullscreen\n",
       "            \n",
       "        ></iframe>\n",
       "        "
      ],
      "text/plain": [
       "<IPython.lib.display.YouTubeVideo at 0x147b63b60>"
      ]
     },
     "execution_count": 52,
     "metadata": {},
     "output_type": "execute_result"
    }
   ],
   "source": [
    "from IPython.display import YouTubeVideo\n",
    "YouTubeVideo('NPARac_fnXw', width=640, height=360)"
   ]
  },
  {
   "cell_type": "markdown",
   "metadata": {},
   "source": [
    "## A Cure for Overfitting in Linear Regression\n",
    "\n",
    "How do we fix the two issues of excessively large weights/coefficients and too many spurious solutions? The video below provides a solution by directly incorporating these issues into the optimization problem."
   ]
  },
  {
   "cell_type": "code",
   "execution_count": 53,
   "metadata": {},
   "outputs": [
    {
     "data": {
      "image/jpeg": "[encoded data removed]",
      "text/html": [
       "\n",
       "        <iframe\n",
       "            width=\"640\"\n",
       "            height=\"360\"\n",
       "            src=\"https://www.youtube.com/embed/SzPuyUCA5Mw\"\n",
       "            frameborder=\"0\"\n",
       "            allowfullscreen\n",
       "            \n",
       "        ></iframe>\n",
       "        "
      ],
      "text/plain": [
       "<IPython.lib.display.YouTubeVideo at 0x147b61070>"
      ]
     },
     "execution_count": 53,
     "metadata": {},
     "output_type": "execute_result"
    }
   ],
   "source": [
    "from IPython.display import YouTubeVideo\n",
    "YouTubeVideo('SzPuyUCA5Mw', width=640, height=360)"
   ]
  },
  {
   "cell_type": "markdown",
   "metadata": {},
   "source": [
    "Above we tackled overfitting, but what about ***underfitting***? The video below shows how to address underfitting and also zooms in on some important details about regularization."
   ]
  },
  {
   "cell_type": "code",
   "execution_count": 54,
   "metadata": {},
   "outputs": [
    {
     "data": {
      "image/jpeg": "[encoded data removed]",
      "text/html": [
       "\n",
       "        <iframe\n",
       "            width=\"640\"\n",
       "            height=\"360\"\n",
       "            src=\"https://www.youtube.com/embed/64VOY77PHPk\"\n",
       "            frameborder=\"0\"\n",
       "            allowfullscreen\n",
       "            \n",
       "        ></iframe>\n",
       "        "
      ],
      "text/plain": [
       "<IPython.lib.display.YouTubeVideo at 0x147b538f0>"
      ]
     },
     "execution_count": 54,
     "metadata": {},
     "output_type": "execute_result"
    }
   ],
   "source": [
    "from IPython.display import YouTubeVideo\n",
    "YouTubeVideo('64VOY77PHPk', width=640, height=360)"
   ]
  },
  {
   "cell_type": "markdown",
   "metadata": {},
   "source": [
    "> **Ex. 11.2.1 (BONUS)**: Is it possible to add a penalty to our linear model above and solve this Lasso model with gradient descent? Is there a simple fix?\n",
    ">\n",
    "> *Hint:* Gradient descent essentially relies on a differentiable loss function (read more [here](https://stats.stackexchange.com/questions/177800/why-proximal-gradient-descent-instead-of-plain-subgradient-methods-for-lasso))"
   ]
  },
  {
   "cell_type": "code",
   "execution_count": 55,
   "metadata": {
    "deletable": false,
    "nbgrader": {
     "cell_type": "code",
     "checksum": "04b4c075a4bad7561c1e03bf809f7faf",
     "grade": false,
     "grade_id": "cell-6aa146e9c530b2b4",
     "locked": false,
     "schema_version": 3,
     "solution": true,
     "task": false
    }
   },
   "outputs": [
    {
     "data": {
      "image/png": "[encoded data removed]",
      "text/plain": [
       "<Figure size 1000x600 with 1 Axes>"
      ]
     },
     "metadata": {},
     "output_type": "display_data"
    },
    {
     "name": "stdout",
     "output_type": "stream",
     "text": [
      "Final weights from gradient descent with L1 penalty: [ 0.27783524  0.07830964  0.0639446  -0.0007261   0.01254956 -0.0080976\n",
      "  0.          0.00433497  0.00275649]\n",
      "Coefficients from sklearn's Lasso: [ 0.08766756  0.28437258 -0.          0.          0.         -0.\n",
      " -0.         -0.        ]\n"
     ]
    }
   ],
   "source": [
    "# YOUR CODE HERE\n",
    "\n",
    "# Solution to Ex. 11.2.1\n",
    "\n",
    "# Load the 'tips' dataset\n",
    "tips = sns.load_dataset('tips')\n",
    "\n",
    "# Convert non-numeric variables to dummy variables\n",
    "tips_dummies = pd.get_dummies(tips, drop_first=True)\n",
    "\n",
    "# Separate the target variable 'tip' and features\n",
    "y = tips_dummies['tip']\n",
    "X = tips_dummies.drop('tip', axis=1)\n",
    "\n",
    "# Split the data into training and test sets (50% each)\n",
    "X_train, X_test, y_train, y_test = train_test_split(X, y, test_size=0.5, random_state=42)\n",
    "\n",
    "# Initialize the StandardScaler\n",
    "scaler = StandardScaler()\n",
    "\n",
    "# Fit the scaler on the training data and transform both training and test data\n",
    "X_train_scaled = scaler.fit_transform(X_train)\n",
    "X_test_scaled = scaler.transform(X_test)\n",
    "\n",
    "# Add a bias term (column of ones) to the features\n",
    "X_train_scaled_bias = np.c_[np.ones(X_train_scaled.shape[0]), X_train_scaled]\n",
    "X_test_scaled_bias = np.c_[np.ones(X_test_scaled.shape[0]), X_test_scaled]\n",
    "\n",
    "# Initialize weights (including the bias weight)\n",
    "w = np.zeros(X_train_scaled_bias.shape[1])\n",
    "\n",
    "# Set the learning rate and regularization parameter\n",
    "eta = 0.001\n",
    "lambda_ = 0.1  # Regularization parameter\n",
    "\n",
    "def compute_mse(y_, X_, w_):\n",
    "    \"\"\"\n",
    "    Compute the mean squared error given the target y_, features X_, and weights w_.\n",
    "    \n",
    "    Parameters:\n",
    "    y_ (numpy array): The true target values.\n",
    "    X_ (numpy array): The feature values including bias.\n",
    "    w_ (numpy array): The weights.\n",
    "    \n",
    "    Returns:\n",
    "    float: The mean squared error of the predictions.\n",
    "    \"\"\"\n",
    "    # Compute the predictions\n",
    "    predictions = X_ @ w_\n",
    "    \n",
    "    # Compute the errors\n",
    "    errors = y_ - predictions\n",
    "    \n",
    "    # Compute the mean squared error\n",
    "    mean_squared_error = np.mean(errors ** 2)\n",
    "    \n",
    "    return mean_squared_error\n",
    "\n",
    "def update_weights(y_, X_, w_, eta, lambda_):\n",
    "    \"\"\"\n",
    "    Update the weights using gradient descent with L1 regularization (Lasso).\n",
    "    \n",
    "    Parameters:\n",
    "    y_ (numpy array): The true target values.\n",
    "    X_ (numpy array): The feature values including bias.\n",
    "    w_ (numpy array): The current weights.\n",
    "    eta (float): The learning rate.\n",
    "    lambda_ (float): The regularization parameter.\n",
    "    \n",
    "    Returns:\n",
    "    numpy array: The updated weights.\n",
    "    \"\"\"\n",
    "    # Compute the predictions\n",
    "    predictions = X_ @ w_\n",
    "    \n",
    "    # Compute the errors\n",
    "    errors = y_ - predictions\n",
    "    \n",
    "    # Compute the gradient for the mean squared error term\n",
    "    gradient = - (X_.T @ errors) / len(y_)\n",
    "    \n",
    "    # Update the weights\n",
    "    w_updated = w_ - eta * gradient\n",
    "    \n",
    "    # Apply the soft thresholding operator for L1 regularization\n",
    "    w_updated = np.sign(w_updated) * np.maximum(np.abs(w_updated) - eta * lambda_, 0)\n",
    "    \n",
    "    return w_updated\n",
    "\n",
    "# Initialize lists to store MSE values\n",
    "MSE_train = []\n",
    "MSE_test = []\n",
    "\n",
    "# Perform gradient descent with 100 iterations\n",
    "num_iterations = 100\n",
    "for i in range(num_iterations):\n",
    "    # Update weights\n",
    "    w = update_weights(y_train, X_train_scaled_bias, w, eta, lambda_)\n",
    "    \n",
    "    # Compute MSE for training and test sets\n",
    "    mse_train = compute_mse(y_train, X_train_scaled_bias, w)\n",
    "    mse_test = compute_mse(y_test, X_test_scaled_bias, w)\n",
    "    \n",
    "    # Append MSE values to lists\n",
    "    MSE_train.append(mse_train)\n",
    "    MSE_test.append(mse_test)\n",
    "\n",
    "# Plot the MSE values\n",
    "plt.figure(figsize=(10, 6))\n",
    "plt.plot(MSE_train, label='Train MSE', color='blue')\n",
    "plt.plot(MSE_test, label='Test MSE', color='red')\n",
    "plt.xlabel('Iteration')\n",
    "plt.ylabel('Mean Squared Error')\n",
    "plt.title('Train and Test MSE Over Iterations with Lasso Regularization')\n",
    "plt.legend()\n",
    "plt.grid(True)\n",
    "plt.show()\n",
    "\n",
    "# Verify the implementation with sklearn's Lasso\n",
    "from sklearn.linear_model import Lasso\n",
    "lasso_reg = Lasso(alpha=lambda_, fit_intercept=True)\n",
    "lasso_reg.fit(X_train, y_train)\n",
    "assert((w[1:] - lasso_reg.coef_).sum() < 0.01)\n",
    "\n",
    "print(\"Final weights from gradient descent with L1 penalty:\", w)\n",
    "print(\"Coefficients from sklearn's Lasso:\", lasso_reg.coef_)\n"
   ]
  },
  {
   "cell_type": "markdown",
   "metadata": {},
   "source": [
    "# Part 3: Modelling Houseprices\n",
    "In this example, we will try to predict houseprices using a lot of variable (or features as they are called in Machine Learning). We are going to work with Kaggle's dataset on house prices, see information [here](https://www.kaggle.com/c/house-prices-advanced-regression-techniques). Kaggle is an organization that hosts competitions in building predictive models."
   ]
  },
  {
   "cell_type": "markdown",
   "metadata": {},
   "source": [
    "> **Ex. 11.3.0:** Load the california housing data with scikit-learn using the code below. Now:\n",
    "> 1. Inspect *cal_house*. How are the data stored?\n",
    "> 2. Create a pandas DataFrame called *X*, using `data`. Name the columns using `feature_names`.\n",
    "> 3. Crate a pandas Series called *y* using `target`.\n",
    "> 4. Make a train test split of equal size."
   ]
  },
  {
   "cell_type": "code",
   "execution_count": 62,
   "metadata": {
    "deletable": false,
    "nbgrader": {
     "cell_type": "code",
     "checksum": "08ca919735b17dfbf96058bf07f4eeab",
     "grade": false,
     "grade_id": "cell-5f14e576643ac94c",
     "locked": false,
     "schema_version": 3,
     "solution": true,
     "task": false
    }
   },
   "outputs": [
    {
     "name": "stdout",
     "output_type": "stream",
     "text": [
      "Type of cal_house: <class 'sklearn.utils._bunch.Bunch'>\n",
      "Keys in cal_house: dict_keys(['data', 'target', 'frame', 'target_names', 'feature_names', 'DESCR'])\n",
      "Description of dataset:\n",
      " .. _california_housing_dataset:\n",
      "\n",
      "California Housing dataset\n",
      "--------------------------\n",
      "\n",
      "**Data Set Characteristics:**\n",
      "\n",
      ":Number of Instances: 20640\n",
      "\n",
      ":Number of Attributes: 8 numeric, predictive attributes and the target\n",
      "\n",
      ":Attribute Information:\n",
      "    - MedInc        median income in block group\n",
      "    - HouseAge      median house age in block group\n",
      "    - AveRooms      average number of rooms per household\n",
      "    - AveBedrms     average number of bedrooms per household\n",
      "    - Population    block group population\n",
      "    - AveOccup      average number of household members\n",
      "    - Latitude      block group latitude\n",
      "    - Longitude     block group longitude\n",
      "\n",
      ":Missing Attribute Values: None\n",
      "\n",
      "This dataset was obtained from the StatLib repository.\n",
      "https://www.dcc.fc.up.pt/~ltorgo/Regression/cal_housing.html\n",
      "\n",
      "The target variable is the median house value for California districts,\n",
      "expressed in hundreds of thousands of dollars ($100,000).\n",
      "\n",
      "This dataset was derived from the 1990 U.S. census, using one row per census\n",
      "block group. A block group is the smallest geographical unit for which the U.S.\n",
      "Census Bureau publishes sample data (a block group typically has a population\n",
      "of 600 to 3,000 people).\n",
      "\n",
      "A household is a group of people residing within a home. Since the average\n",
      "number of rooms and bedrooms in this dataset are provided per household, these\n",
      "columns may take surprisingly large values for block groups with few households\n",
      "and many empty houses, such as vacation resorts.\n",
      "\n",
      "It can be downloaded/loaded using the\n",
      ":func:`sklearn.datasets.fetch_california_housing` function.\n",
      "\n",
      ".. topic:: References\n",
      "\n",
      "    - Pace, R. Kelley and Ronald Barry, Sparse Spatial Autoregressions,\n",
      "      Statistics and Probability Letters, 33 (1997) 291-297\n",
      "\n",
      "Data shape: (20640, 8)\n",
      "Feature names: ['MedInc', 'HouseAge', 'AveRooms', 'AveBedrms', 'Population', 'AveOccup', 'Latitude', 'Longitude']\n",
      "\n",
      "First few rows of X:\n",
      "    MedInc  HouseAge  AveRooms  AveBedrms  Population  AveOccup  Latitude  \\\n",
      "0  8.3252      41.0  6.984127   1.023810       322.0  2.555556     37.88   \n",
      "1  8.3014      21.0  6.238137   0.971880      2401.0  2.109842     37.86   \n",
      "2  7.2574      52.0  8.288136   1.073446       496.0  2.802260     37.85   \n",
      "3  5.6431      52.0  5.817352   1.073059       558.0  2.547945     37.85   \n",
      "4  3.8462      52.0  6.281853   1.081081       565.0  2.181467     37.85   \n",
      "\n",
      "   Longitude  \n",
      "0    -122.23  \n",
      "1    -122.22  \n",
      "2    -122.24  \n",
      "3    -122.25  \n",
      "4    -122.25  \n",
      "\n",
      "First few rows of y:\n",
      " 0    4.526\n",
      "1    3.585\n",
      "2    3.521\n",
      "3    3.413\n",
      "4    3.422\n",
      "Name: MedHouseVal, dtype: float64\n",
      "\n",
      "Size of training data: 10320\n",
      "Size of test data: 10320\n"
     ]
    }
   ],
   "source": [
    "from sklearn.datasets import fetch_california_housing\n",
    "from sklearn.model_selection import train_test_split\n",
    "\n",
    "cal_house = fetch_california_housing()    \n",
    "\n",
    "# YOUR CODE HERE\n",
    "\n",
    "# Solution to Ex. 11.3.0\n",
    "\n",
    "# 1. Inspect the cal_house object\n",
    "print(\"Type of cal_house:\", type(cal_house))\n",
    "print(\"Keys in cal_house:\", cal_house.keys())\n",
    "print(\"Description of dataset:\\n\", cal_house['DESCR'])\n",
    "print(\"Data shape:\", cal_house.data.shape)\n",
    "print(\"Feature names:\", cal_house.feature_names)\n",
    "\n",
    "# 2. Create a pandas DataFrame called X\n",
    "X = pd.DataFrame(cal_house.data, columns=cal_house.feature_names)\n",
    "print(\"\\nFirst few rows of X:\\n\", X.head())\n",
    "\n",
    "# 3. Create a pandas Series called y\n",
    "y = pd.Series(cal_house.target, name='MedHouseVal')\n",
    "print(\"\\nFirst few rows of y:\\n\", y.head())\n",
    "\n",
    "# 4. Make a train-test split of equal size\n",
    "X_train, X_test, y_train, y_test = train_test_split(X, y, test_size=0.5, random_state=42)\n",
    "print(\"\\nSize of training data:\", X_train.shape[0])\n",
    "print(\"Size of test data:\", X_test.shape[0])\n"
   ]
  },
  {
   "cell_type": "markdown",
   "metadata": {},
   "source": [
    "\n",
    "\n",
    "> **Ex.11.3.1**: Generate interactions between all features to third degree (make sure you **exclude** the bias/intercept term). How many variables are there? Will OLS fail? After making interactions, rescale the features to have zero mean, unit std. deviation. Should you use the distribution of the training data to rescale the test data?  \n",
    "\n",
    "> *Hint 1*: Try importing `PolynomialFeatures` from `sklearn.preprocessing`\n",
    "\n",
    "> *Hint 2*: If in doubt about which distribution to scale, you may read [this post](https://stats.stackexchange.com/questions/174823/how-to-apply-standardization-normalization-to-train-and-testset-if-prediction-i)."
   ]
  },
  {
   "cell_type": "code",
   "execution_count": 57,
   "metadata": {},
   "outputs": [],
   "source": [
    "# INCLUDED IN ASSIGNMENT 2"
   ]
  },
  {
   "cell_type": "code",
   "execution_count": 59,
   "metadata": {
    "deletable": false,
    "nbgrader": {
     "cell_type": "code",
     "checksum": "ed00cd67cc7a2e431594d4cfe29da085",
     "grade": false,
     "grade_id": "cell-4aacfe9c22772c42",
     "locked": false,
     "schema_version": 3,
     "solution": true,
     "task": false
    }
   },
   "outputs": [
    {
     "ename": "NameError",
     "evalue": "name 'PolynomialFeatures' is not defined",
     "output_type": "error",
     "traceback": [
      "\u001b[0;31m---------------------------------------------------------------------------\u001b[0m",
      "\u001b[0;31mNameError\u001b[0m                                 Traceback (most recent call last)",
      "Cell \u001b[0;32mIn[59], line 20\u001b[0m\n\u001b[1;32m     17\u001b[0m X_train, X_test, y_train, y_test \u001b[38;5;241m=\u001b[39m train_test_split(X, y, test_size\u001b[38;5;241m=\u001b[39m\u001b[38;5;241m0.5\u001b[39m, random_state\u001b[38;5;241m=\u001b[39m\u001b[38;5;241m42\u001b[39m)\n\u001b[1;32m     19\u001b[0m \u001b[38;5;66;03m# 1. Generate interactions between all features to third degree\u001b[39;00m\n\u001b[0;32m---> 20\u001b[0m poly \u001b[38;5;241m=\u001b[39m PolynomialFeatures(degree\u001b[38;5;241m=\u001b[39m\u001b[38;5;241m3\u001b[39m, include_bias\u001b[38;5;241m=\u001b[39m\u001b[38;5;28;01mFalse\u001b[39;00m)\n\u001b[1;32m     21\u001b[0m X_train_poly \u001b[38;5;241m=\u001b[39m poly\u001b[38;5;241m.\u001b[39mfit_transform(X_train)\n\u001b[1;32m     22\u001b[0m X_test_poly \u001b[38;5;241m=\u001b[39m poly\u001b[38;5;241m.\u001b[39mtransform(X_test)\n",
      "\u001b[0;31mNameError\u001b[0m: name 'PolynomialFeatures' is not defined"
     ]
    }
   ],
   "source": [
    "# YOUR CODE HERE\n",
    "\n",
    "# Solution to Ex. 11.3.1\n",
    "\n",
    "from sklearn.datasets import fetch_california_housing\n",
    "from sklearn.model_selection import train_test_split\n",
    "\n",
    "cal_house = fetch_california_housing()\n",
    "# Load the California housing data\n",
    "cal_house = fetch_california_housing()\n",
    "\n",
    "# Create pandas DataFrame and Series\n",
    "X = pd.DataFrame(cal_house.data, columns=cal_house.feature_names)\n",
    "y = pd.Series(cal_house.target, name='MedHouseVal')\n",
    "\n",
    "# Split the data into training and test sets (50% each)\n",
    "X_train, X_test, y_train, y_test = train_test_split(X, y, test_size=0.5, random_state=42)\n",
    "\n",
    "# 1. Generate interactions between all features to third degree\n",
    "poly = PolynomialFeatures(degree=3, include_bias=False)\n",
    "X_train_poly = poly.fit_transform(X_train)\n",
    "X_test_poly = poly.transform(X_test)\n",
    "\n",
    "# Number of features after generating interactions\n",
    "num_features = X_train_poly.shape[1]\n",
    "print(f\"Number of features after generating interactions up to third degree: {num_features}\")\n",
    "\n",
    "# 2. Check if OLS will fail\n",
    "print(\"OLS may face numerical issues due to high dimensionality and multicollinearity.\")\n",
    "\n",
    "# 3. Rescale the features to zero mean and unit std. deviation\n",
    "scaler = StandardScaler()\n",
    "X_train_scaled = scaler.fit_transform(X_train_poly)\n",
    "X_test_scaled = scaler.transform(X_test_poly)\n",
    "\n",
    "# Verify the scaling\n",
    "print(\"Scaling applied based on training data distribution and then used for test data.\")\n",
    "print(\"First row of scaled training data:\\n\", X_train_scaled[0])\n",
    "print(\"First row of scaled test data:\\n\", X_test_scaled[0])\n"
   ]
  },
  {
   "cell_type": "markdown",
   "metadata": {},
   "source": [
    "> **Ex.11.3.2**: Estimate the Lasso model on the rescaled train data set, using values of $\\lambda$ in the range from $10^{-4}$ to $10^4$. For each $\\lambda$  calculate and save the Root Mean Squared Error (RMSE) for the rescaled test and train data. Take a look at the fitted coefficients for different sizes of $\\lambda$. What happens when $\\lambda$ increases? Why?\n",
    "\n",
    "> *Hint 1*: use `logspace` in numpy to create the range.\n",
    "\n",
    "> *Hint 2*: read about the `coef_` feature [here](https://scikit-learn.org/stable/modules/generated/sklearn.linear_model.Lasso.html#sklearn.linear_model.Lasso).\n"
   ]
  },
  {
   "cell_type": "code",
   "execution_count": null,
   "metadata": {},
   "outputs": [],
   "source": [
    "# INCLUDED IN ASSIGNMENT 2"
   ]
  },
  {
   "cell_type": "code",
   "execution_count": 60,
   "metadata": {
    "deletable": false,
    "nbgrader": {
     "cell_type": "code",
     "checksum": "a5cb040dc44fd9a9f591f1193a1311ab",
     "grade": false,
     "grade_id": "cell-d981c29cec05057b",
     "locked": false,
     "schema_version": 3,
     "solution": true,
     "task": false
    }
   },
   "outputs": [
    {
     "ename": "NameError",
     "evalue": "name 'PolynomialFeatures' is not defined",
     "output_type": "error",
     "traceback": [
      "\u001b[0;31m---------------------------------------------------------------------------\u001b[0m",
      "\u001b[0;31mNameError\u001b[0m                                 Traceback (most recent call last)",
      "Cell \u001b[0;32mIn[60], line 16\u001b[0m\n\u001b[1;32m     13\u001b[0m X_train, X_test, y_train, y_test \u001b[38;5;241m=\u001b[39m train_test_split(X, y, test_size\u001b[38;5;241m=\u001b[39m\u001b[38;5;241m0.5\u001b[39m, random_state\u001b[38;5;241m=\u001b[39m\u001b[38;5;241m42\u001b[39m)\n\u001b[1;32m     15\u001b[0m \u001b[38;5;66;03m# Generate interactions between all features to third degree\u001b[39;00m\n\u001b[0;32m---> 16\u001b[0m poly \u001b[38;5;241m=\u001b[39m PolynomialFeatures(degree\u001b[38;5;241m=\u001b[39m\u001b[38;5;241m3\u001b[39m, include_bias\u001b[38;5;241m=\u001b[39m\u001b[38;5;28;01mFalse\u001b[39;00m)\n\u001b[1;32m     17\u001b[0m X_train_poly \u001b[38;5;241m=\u001b[39m poly\u001b[38;5;241m.\u001b[39mfit_transform(X_train)\n\u001b[1;32m     18\u001b[0m X_test_poly \u001b[38;5;241m=\u001b[39m poly\u001b[38;5;241m.\u001b[39mtransform(X_test)\n",
      "\u001b[0;31mNameError\u001b[0m: name 'PolynomialFeatures' is not defined"
     ]
    }
   ],
   "source": [
    "# YOUR CODE HERE\n",
    "\n",
    "# Solution to Ex. 11.3.2\n",
    "\n",
    "# Load the California housing data\n",
    "cal_house = fetch_california_housing()\n",
    "\n",
    "# Create pandas DataFrame and Series\n",
    "X = pd.DataFrame(cal_house.data, columns=cal_house.feature_names)\n",
    "y = pd.Series(cal_house.target, name='MedHouseVal')\n",
    "\n",
    "# Split the data into training and test sets (50% each)\n",
    "X_train, X_test, y_train, y_test = train_test_split(X, y, test_size=0.5, random_state=42)\n",
    "\n",
    "# Generate interactions between all features to third degree\n",
    "poly = PolynomialFeatures(degree=3, include_bias=False)\n",
    "X_train_poly = poly.fit_transform(X_train)\n",
    "X_test_poly = poly.transform(X_test)\n",
    "\n",
    "# Rescale the features to zero mean and unit std. deviation\n",
    "scaler = StandardScaler()\n",
    "X_train_scaled = scaler.fit_transform(X_train_poly)\n",
    "X_test_scaled = scaler.transform(X_test_poly)\n",
    "\n",
    "# Define a range of lambda values\n",
    "lambda_values = np.logspace(-4, 4, 100)\n",
    "\n",
    "# Lists to store RMSE values\n",
    "rmse_train = []\n",
    "rmse_test = []\n",
    "coefficients = []\n",
    "\n",
    "# Loop over each lambda value\n",
    "for lambda_ in lambda_values:\n",
    "    # Initialize and fit Lasso model\n",
    "    lasso = Lasso(alpha=lambda_, max_iter=10000)\n",
    "    lasso.fit(X_train_scaled, y_train)\n",
    "    \n",
    "    # Predict and calculate RMSE for training and test sets\n",
    "    y_train_pred = lasso.predict(X_train_scaled)\n",
    "    y_test_pred = lasso.predict(X_test_scaled)\n",
    "    \n",
    "    rmse_train.append(np.sqrt(mean_squared_error(y_train, y_train_pred)))\n",
    "    rmse_test.append(np.sqrt(mean_squared_error(y_test, y_test_pred)))\n",
    "    \n",
    "    # Save coefficients\n",
    "    coefficients.append(lasso.coef_)\n",
    "\n",
    "# Convert lists to pandas Series for easy plotting\n",
    "rmse_train = pd.Series(rmse_train, index=lambda_values)\n",
    "rmse_test = pd.Series(rmse_test, index=lambda_values)\n",
    "\n",
    "# Plot RMSE vs. lambda\n",
    "import matplotlib.pyplot as plt\n",
    "\n",
    "plt.figure(figsize=(12, 6))\n",
    "plt.plot(rmse_train, label='Train RMSE')\n",
    "plt.plot(rmse_test, label='Test RMSE')\n",
    "plt.xscale('log')\n",
    "plt.xlabel('Lambda')\n",
    "plt.ylabel('Root Mean Squared Error')\n",
    "plt.title('RMSE vs. Lambda for Lasso Regression')\n",
    "plt.legend()\n",
    "plt.grid(True)\n",
    "plt.show()\n",
    "\n",
    "# Analysis of coefficients\n",
    "import matplotlib.pyplot as plt\n",
    "\n",
    "# Example: Plot the coefficients for a few lambda values\n",
    "plt.figure(figsize=(12, 6))\n",
    "for i, lambda_ in enumerate([lambda_values[0], lambda_values[25], lambda_values[50], lambda_values[75], lambda_values[-1]]):\n",
    "    plt.plot(coefficients[i], label=f'Lambda = {lambda_:.1e}')\n",
    "\n",
    "plt.xlabel('Feature index')\n",
    "plt.ylabel('Coefficient value')\n",
    "plt.title('Lasso Coefficients for Different Lambda Values')\n",
    "plt.legend()\n",
    "plt.grid(True)\n",
    "plt.show()\n"
   ]
  },
  {
   "cell_type": "markdown",
   "metadata": {},
   "source": [
    "> **Ex.11.3.3**: Make a plot with the lambdas on the x-axis and the RMSE measures on the y-axis. What happens to RMSE for train and test data as $\\lambda$ increases? The x-axis should be log scaled. Which one are we interested in minimizing? \n",
    "\n",
    "> Bonus: Can you find the lambda that gives the lowest MSE-test score?"
   ]
  },
  {
   "cell_type": "code",
   "execution_count": null,
   "metadata": {},
   "outputs": [],
   "source": [
    "# INCLUDED IN ASSIGNMENT 2"
   ]
  },
  {
   "cell_type": "code",
   "execution_count": 61,
   "metadata": {
    "deletable": false,
    "nbgrader": {
     "cell_type": "code",
     "checksum": "3469299a7668bf4275e2824d1d454144",
     "grade": false,
     "grade_id": "cell-5a2846b33750acbc",
     "locked": false,
     "schema_version": 3,
     "solution": true,
     "task": false
    }
   },
   "outputs": [
    {
     "ename": "NameError",
     "evalue": "name 'PolynomialFeatures' is not defined",
     "output_type": "error",
     "traceback": [
      "\u001b[0;31m---------------------------------------------------------------------------\u001b[0m",
      "\u001b[0;31mNameError\u001b[0m                                 Traceback (most recent call last)",
      "Cell \u001b[0;32mIn[61], line 17\u001b[0m\n\u001b[1;32m     14\u001b[0m X_train, X_test, y_train, y_test \u001b[38;5;241m=\u001b[39m train_test_split(X, y, test_size\u001b[38;5;241m=\u001b[39m\u001b[38;5;241m0.5\u001b[39m, random_state\u001b[38;5;241m=\u001b[39m\u001b[38;5;241m42\u001b[39m)\n\u001b[1;32m     16\u001b[0m \u001b[38;5;66;03m# Generate interactions between all features to third degree\u001b[39;00m\n\u001b[0;32m---> 17\u001b[0m poly \u001b[38;5;241m=\u001b[39m PolynomialFeatures(degree\u001b[38;5;241m=\u001b[39m\u001b[38;5;241m3\u001b[39m, include_bias\u001b[38;5;241m=\u001b[39m\u001b[38;5;28;01mFalse\u001b[39;00m)\n\u001b[1;32m     18\u001b[0m X_train_poly \u001b[38;5;241m=\u001b[39m poly\u001b[38;5;241m.\u001b[39mfit_transform(X_train)\n\u001b[1;32m     19\u001b[0m X_test_poly \u001b[38;5;241m=\u001b[39m poly\u001b[38;5;241m.\u001b[39mtransform(X_test)\n",
      "\u001b[0;31mNameError\u001b[0m: name 'PolynomialFeatures' is not defined"
     ]
    }
   ],
   "source": [
    "# YOUR CODE HERE\n",
    "\n",
    "# Solution to Ex. 11.3.3\n",
    "\n",
    "\n",
    "# Load the California housing data\n",
    "cal_house = fetch_california_housing()\n",
    "\n",
    "# Create pandas DataFrame and Series\n",
    "X = pd.DataFrame(cal_house.data, columns=cal_house.feature_names)\n",
    "y = pd.Series(cal_house.target, name='MedHouseVal')\n",
    "\n",
    "# Split the data into training and test sets (50% each)\n",
    "X_train, X_test, y_train, y_test = train_test_split(X, y, test_size=0.5, random_state=42)\n",
    "\n",
    "# Generate interactions between all features to third degree\n",
    "poly = PolynomialFeatures(degree=3, include_bias=False)\n",
    "X_train_poly = poly.fit_transform(X_train)\n",
    "X_test_poly = poly.transform(X_test)\n",
    "\n",
    "# Rescale the features to zero mean and unit std. deviation\n",
    "scaler = StandardScaler()\n",
    "X_train_scaled = scaler.fit_transform(X_train_poly)\n",
    "X_test_scaled = scaler.transform(X_test_poly)\n",
    "\n",
    "# Define a range of lambda values\n",
    "lambda_values = np.logspace(-4, 4, 100)\n",
    "\n",
    "# Lists to store RMSE values\n",
    "rmse_train = []\n",
    "rmse_test = []\n",
    "coefficients = []\n",
    "\n",
    "# Loop over each lambda value\n",
    "for lambda_ in lambda_values:\n",
    "    # Initialize and fit Lasso model\n",
    "    lasso = Lasso(alpha=lambda_, max_iter=10000)\n",
    "    lasso.fit(X_train_scaled, y_train)\n",
    "    \n",
    "    # Predict and calculate RMSE for training and test sets\n",
    "    y_train_pred = lasso.predict(X_train_scaled)\n",
    "    y_test_pred = lasso.predict(X_test_scaled)\n",
    "    \n",
    "    rmse_train.append(np.sqrt(mean_squared_error(y_train, y_train_pred)))\n",
    "    rmse_test.append(np.sqrt(mean_squared_error(y_test, y_test_pred)))\n",
    "    \n",
    "    # Save coefficients (optional, for analysis)\n",
    "    coefficients.append(lasso.coef_)\n",
    "\n",
    "# Convert lists to pandas Series for easy plotting\n",
    "rmse_train = pd.Series(rmse_train, index=lambda_values)\n",
    "rmse_test = pd.Series(rmse_test, index=lambda_values)\n",
    "\n",
    "# Plot RMSE vs. lambda\n",
    "plt.figure(figsize=(12, 6))\n",
    "plt.plot(rmse_train, label='Train RMSE', color='blue')\n",
    "plt.plot(rmse_test, label='Test RMSE', color='red')\n",
    "plt.xscale('log')\n",
    "plt.xlabel('Lambda')\n",
    "plt.ylabel('Root Mean Squared Error')\n",
    "plt.title('RMSE vs. Lambda for Lasso Regression')\n",
    "plt.legend()\n",
    "plt.grid(True)\n",
    "plt.show()\n",
    "\n",
    "# Bonus: Find the lambda with the lowest test RMSE\n",
    "best_lambda = rmse_test.idxmin()\n",
    "best_rmse_test = rmse_test.min()\n",
    "\n",
    "print(f\"Lambda with the lowest test RMSE: {best_lambda:.1e}\")\n",
    "print(f\"Lowest test RMSE: {best_rmse_test:.3f}\")\n"
   ]
  }
 ],
 "metadata": {
  "kernelspec": {
   "display_name": "Python 3 (ipykernel)",
   "language": "python",
   "name": "python3"
  },
  "language_info": {
   "codemirror_mode": {
    "name": "ipython",
    "version": 3
   },
   "file_extension": ".py",
   "mimetype": "text/x-python",
   "name": "python",
   "nbconvert_exporter": "python",
   "pygments_lexer": "ipython3",
   "version": "3.12.4"
  },
  "nav_menu": {},
  "toc": {
   "navigate_menu": true,
   "number_sections": false,
   "sideBar": true,
   "threshold": 6,
   "toc_cell": false,
   "toc_section_display": "block",
   "toc_window_display": true
  },
  "varInspector": {
   "cols": {
    "lenName": 16,
    "lenType": 16,
    "lenVar": 40
   },
   "kernels_config": {
    "python": {
     "delete_cmd_postfix": "",
     "delete_cmd_prefix": "del ",
     "library": "var_list.py",
     "varRefreshCmd": "print(var_dic_list())"
    },
    "r": {
     "delete_cmd_postfix": ") ",
     "delete_cmd_prefix": "rm(",
     "library": "var_list.r",
     "varRefreshCmd": "cat(var_dic_list()) "
    }
   },
   "types_to_exclude": [
    "module",
    "function",
    "builtin_function_or_method",
    "instance",
    "_Feature"
   ],
   "window_display": false
  }
 },
 "nbformat": 4,
 "nbformat_minor": 4
}
